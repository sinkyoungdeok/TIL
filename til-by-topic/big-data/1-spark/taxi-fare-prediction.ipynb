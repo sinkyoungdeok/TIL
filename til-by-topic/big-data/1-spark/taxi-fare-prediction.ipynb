{
 "cells": [
  {
   "cell_type": "code",
   "execution_count": 1,
   "id": "9a505b60",
   "metadata": {},
   "outputs": [],
   "source": [
    "from pyspark.sql import SparkSession"
   ]
  },
  {
   "cell_type": "code",
   "execution_count": 2,
   "id": "7d2e0072",
   "metadata": {},
   "outputs": [
    {
     "name": "stdout",
     "output_type": "stream",
     "text": [
      "22/07/31 22:19:54 WARN Utils: Your hostname, singyeongdeog-ui-Macmini.local resolves to a loopback address: 127.0.0.1; using 222.98.22.103 instead (on interface en0)\n",
      "22/07/31 22:19:54 WARN Utils: Set SPARK_LOCAL_IP if you need to bind to another address\n"
     ]
    },
    {
     "name": "stderr",
     "output_type": "stream",
     "text": [
      "Setting default log level to \"WARN\".\n",
      "To adjust logging level use sc.setLogLevel(newLevel). For SparkR, use setLogLevel(newLevel).\n"
     ]
    },
    {
     "name": "stdout",
     "output_type": "stream",
     "text": [
      "22/07/31 22:19:55 WARN NativeCodeLoader: Unable to load native-hadoop library for your platform... using builtin-java classes where applicable\n"
     ]
    }
   ],
   "source": [
    "MAX_MEMORY = \"5g\"\n",
    "spark = SparkSession.builder.appName(\"taxi-fare-prediction\")\\\n",
    "                    .config(\"spark.executor.memory\", MAX_MEMORY)\\\n",
    "                    .config(\"spark.driver.memory\", MAX_MEMORY)\\\n",
    "                    .getOrCreate()"
   ]
  },
  {
   "cell_type": "code",
   "execution_count": 3,
   "id": "6a7606ab",
   "metadata": {},
   "outputs": [],
   "source": [
    "trip_files = \"/Users/singyeongdeog/Documents/github_code/data-engineering/01-spark/data/yellow/*\""
   ]
  },
  {
   "cell_type": "code",
   "execution_count": 4,
   "id": "500119be",
   "metadata": {},
   "outputs": [
    {
     "name": "stderr",
     "output_type": "stream",
     "text": [
      "                                                                                \r"
     ]
    }
   ],
   "source": [
    "trips_df = spark.read.csv(f\"file:///{trip_files}\", inferSchema=True, header=True)"
   ]
  },
  {
   "cell_type": "code",
   "execution_count": 5,
   "id": "e3fa8d76",
   "metadata": {},
   "outputs": [
    {
     "name": "stdout",
     "output_type": "stream",
     "text": [
      "root\n",
      " |-- VendorID: integer (nullable = true)\n",
      " |-- tpep_pickup_datetime: timestamp (nullable = true)\n",
      " |-- tpep_dropoff_datetime: timestamp (nullable = true)\n",
      " |-- passenger_count: double (nullable = true)\n",
      " |-- trip_distance: double (nullable = true)\n",
      " |-- RatecodeID: double (nullable = true)\n",
      " |-- store_and_fwd_flag: string (nullable = true)\n",
      " |-- PULocationID: integer (nullable = true)\n",
      " |-- DOLocationID: integer (nullable = true)\n",
      " |-- payment_type: integer (nullable = true)\n",
      " |-- fare_amount: double (nullable = true)\n",
      " |-- extra: double (nullable = true)\n",
      " |-- mta_tax: double (nullable = true)\n",
      " |-- tip_amount: double (nullable = true)\n",
      " |-- tolls_amount: double (nullable = true)\n",
      " |-- improvement_surcharge: double (nullable = true)\n",
      " |-- total_amount: double (nullable = true)\n",
      " |-- congestion_surcharge: double (nullable = true)\n",
      " |-- airport_fee: double (nullable = true)\n",
      "\n"
     ]
    }
   ],
   "source": [
    "trips_df.printSchema()"
   ]
  },
  {
   "cell_type": "code",
   "execution_count": 6,
   "id": "07f6dc00",
   "metadata": {},
   "outputs": [],
   "source": [
    "trips_df.createOrReplaceTempView(\"trips\")"
   ]
  },
  {
   "cell_type": "code",
   "execution_count": 7,
   "id": "71699a01",
   "metadata": {},
   "outputs": [],
   "source": [
    "query = \"\"\"\n",
    "SELECT\n",
    "    trip_distance,\n",
    "    total_amount\n",
    "FROM\n",
    "    trips\n",
    "WHERE\n",
    "    total_amount < 5000\n",
    "    AND total_amount > 0\n",
    "    AND trip_distance > 0\n",
    "    AND trip_distance < 500\n",
    "    AND passenger_count < 4\n",
    "    AND TO_DATE(tpep_pickup_datetime) >= '2021-01-01'\n",
    "    AND TO_DATE(tpep_dropoff_datetime) < '2021-08-01'\n",
    "\"\"\""
   ]
  },
  {
   "cell_type": "code",
   "execution_count": 9,
   "id": "13e224aa",
   "metadata": {},
   "outputs": [],
   "source": [
    "data_df = spark.sql(query)\n",
    "data_df.createOrReplaceTempView(\"data\")"
   ]
  },
  {
   "cell_type": "code",
   "execution_count": 10,
   "id": "3d37cd4d",
   "metadata": {},
   "outputs": [
    {
     "name": "stdout",
     "output_type": "stream",
     "text": [
      "+-------------+------------+\n",
      "|trip_distance|total_amount|\n",
      "+-------------+------------+\n",
      "|          2.1|        11.8|\n",
      "|          0.2|         4.3|\n",
      "|         14.7|       51.95|\n",
      "|         10.6|       36.35|\n",
      "|         4.94|       24.36|\n",
      "|          1.6|       14.15|\n",
      "|          4.1|        17.3|\n",
      "|          5.7|        21.8|\n",
      "|          9.1|        28.8|\n",
      "|          2.7|       18.95|\n",
      "|         6.11|        24.3|\n",
      "|         1.21|       10.79|\n",
      "|          7.4|       33.92|\n",
      "|         1.01|        10.3|\n",
      "|         0.73|       12.09|\n",
      "|         1.17|       12.36|\n",
      "|         0.78|        9.96|\n",
      "|         1.66|        12.3|\n",
      "|         0.93|         9.3|\n",
      "|         1.16|       11.84|\n",
      "+-------------+------------+\n",
      "only showing top 20 rows\n",
      "\n"
     ]
    }
   ],
   "source": [
    "data_df.show()"
   ]
  },
  {
   "cell_type": "code",
   "execution_count": 11,
   "id": "983c5334",
   "metadata": {},
   "outputs": [
    {
     "name": "stderr",
     "output_type": "stream",
     "text": [
      "[Stage 3:====================================================>    (12 + 1) / 13]\r"
     ]
    },
    {
     "name": "stdout",
     "output_type": "stream",
     "text": [
      "+-------+------------------+------------------+\n",
      "|summary|     trip_distance|      total_amount|\n",
      "+-------+------------------+------------------+\n",
      "|  count|          13125324|          13125324|\n",
      "|   mean| 2.881893450401659|17.972483560192323|\n",
      "| stddev|3.8200814810687933|12.975154876440737|\n",
      "|    min|              0.01|              0.01|\n",
      "|    max|             475.5|            4973.3|\n",
      "+-------+------------------+------------------+\n",
      "\n"
     ]
    },
    {
     "name": "stderr",
     "output_type": "stream",
     "text": [
      "\r",
      "                                                                                \r"
     ]
    }
   ],
   "source": [
    "data_df.describe().show()"
   ]
  },
  {
   "cell_type": "code",
   "execution_count": 12,
   "id": "fdf261fc",
   "metadata": {},
   "outputs": [],
   "source": [
    "train_df, test_df = data_df.randomSplit([0.8,0.2], seed=1)"
   ]
  },
  {
   "cell_type": "code",
   "execution_count": 13,
   "id": "8d7e773a",
   "metadata": {},
   "outputs": [
    {
     "name": "stderr",
     "output_type": "stream",
     "text": [
      "                                                                                \r"
     ]
    },
    {
     "name": "stdout",
     "output_type": "stream",
     "text": [
      "10499540\n"
     ]
    },
    {
     "name": "stderr",
     "output_type": "stream",
     "text": [
      "[Stage 9:====================================================>    (12 + 1) / 13]\r"
     ]
    },
    {
     "name": "stdout",
     "output_type": "stream",
     "text": [
      "2625784\n"
     ]
    },
    {
     "name": "stderr",
     "output_type": "stream",
     "text": [
      "\r",
      "                                                                                \r"
     ]
    }
   ],
   "source": [
    "print(train_df.count())\n",
    "print(test_df.count())"
   ]
  },
  {
   "cell_type": "code",
   "execution_count": 14,
   "id": "12daebfd",
   "metadata": {},
   "outputs": [],
   "source": [
    "from pyspark.ml.feature import VectorAssembler"
   ]
  },
  {
   "cell_type": "code",
   "execution_count": 22,
   "id": "5de31e0a",
   "metadata": {},
   "outputs": [],
   "source": [
    "vassembler = VectorAssembler(inputCols=[\"trip_distance\"], outputCol=\"features\")"
   ]
  },
  {
   "cell_type": "code",
   "execution_count": 23,
   "id": "b2fc2c9b",
   "metadata": {},
   "outputs": [],
   "source": [
    "vtrain_df = vassembler.transform(train_df)"
   ]
  },
  {
   "cell_type": "code",
   "execution_count": 24,
   "id": "e0799c54",
   "metadata": {},
   "outputs": [
    {
     "name": "stderr",
     "output_type": "stream",
     "text": [
      "\r",
      "[Stage 13:>                                                         (0 + 1) / 1]\r"
     ]
    },
    {
     "name": "stdout",
     "output_type": "stream",
     "text": [
      "+-------------+------------+--------+\n",
      "|trip_distance|total_amount|features|\n",
      "+-------------+------------+--------+\n",
      "|         0.01|         3.3|  [0.01]|\n",
      "|         0.01|         3.3|  [0.01]|\n",
      "|         0.01|         3.3|  [0.01]|\n",
      "|         0.01|         3.3|  [0.01]|\n",
      "|         0.01|         3.3|  [0.01]|\n",
      "|         0.01|         3.3|  [0.01]|\n",
      "|         0.01|         3.3|  [0.01]|\n",
      "|         0.01|         3.3|  [0.01]|\n",
      "|         0.01|         3.3|  [0.01]|\n",
      "|         0.01|         3.3|  [0.01]|\n",
      "|         0.01|         3.3|  [0.01]|\n",
      "|         0.01|         3.3|  [0.01]|\n",
      "|         0.01|         3.3|  [0.01]|\n",
      "|         0.01|         3.3|  [0.01]|\n",
      "|         0.01|         3.3|  [0.01]|\n",
      "|         0.01|         3.3|  [0.01]|\n",
      "|         0.01|         3.3|  [0.01]|\n",
      "|         0.01|         3.3|  [0.01]|\n",
      "|         0.01|         3.3|  [0.01]|\n",
      "|         0.01|         3.3|  [0.01]|\n",
      "+-------------+------------+--------+\n",
      "only showing top 20 rows\n",
      "\n"
     ]
    },
    {
     "name": "stderr",
     "output_type": "stream",
     "text": [
      "\r",
      "                                                                                \r"
     ]
    }
   ],
   "source": [
    "vtrain_df.show()"
   ]
  },
  {
   "cell_type": "code",
   "execution_count": 25,
   "id": "acf3fbd4",
   "metadata": {},
   "outputs": [],
   "source": [
    "from pyspark.ml.regression import LinearRegression"
   ]
  },
  {
   "cell_type": "code",
   "execution_count": 26,
   "id": "97a88237",
   "metadata": {},
   "outputs": [],
   "source": [
    "lr = LinearRegression(\n",
    "    maxIter = 50,\n",
    "    labelCol = \"total_amount\",\n",
    "    featuresCol = \"features\"\n",
    ")"
   ]
  },
  {
   "cell_type": "code",
   "execution_count": 27,
   "id": "d345d97b",
   "metadata": {},
   "outputs": [
    {
     "name": "stdout",
     "output_type": "stream",
     "text": [
      "22/07/31 22:32:33 WARN Instrumentation: [cd080a2f] regParam is zero, which might cause numerical instability and overfitting.\n"
     ]
    },
    {
     "name": "stderr",
     "output_type": "stream",
     "text": [
      "\r",
      "[Stage 14:>                                                        (0 + 8) / 13]\r"
     ]
    },
    {
     "name": "stdout",
     "output_type": "stream",
     "text": [
      "22/07/31 22:32:40 WARN InstanceBuilder$NativeBLAS: Failed to load implementation from:dev.ludovic.netlib.blas.JNIBLAS\n",
      "22/07/31 22:32:40 WARN InstanceBuilder$NativeBLAS: Failed to load implementation from:dev.ludovic.netlib.blas.ForeignLinkerBLAS\n"
     ]
    },
    {
     "name": "stderr",
     "output_type": "stream",
     "text": [
      "                                                                                \r"
     ]
    },
    {
     "name": "stdout",
     "output_type": "stream",
     "text": [
      "22/07/31 22:33:12 WARN InstanceBuilder$NativeLAPACK: Failed to load implementation from:dev.ludovic.netlib.lapack.JNILAPACK\n"
     ]
    },
    {
     "name": "stderr",
     "output_type": "stream",
     "text": [
      "                                                                                \r"
     ]
    }
   ],
   "source": [
    "model = lr.fit(vtrain_df)"
   ]
  },
  {
   "cell_type": "code",
   "execution_count": 28,
   "id": "9db716e0",
   "metadata": {},
   "outputs": [],
   "source": [
    "vtest_df = vassembler.transform(test_df)"
   ]
  },
  {
   "cell_type": "code",
   "execution_count": 29,
   "id": "4206e397",
   "metadata": {},
   "outputs": [],
   "source": [
    "prediction = model.transform(vtest_df)"
   ]
  },
  {
   "cell_type": "code",
   "execution_count": 30,
   "id": "5b42fcf6",
   "metadata": {},
   "outputs": [
    {
     "name": "stderr",
     "output_type": "stream",
     "text": [
      "\r",
      "[Stage 18:>                                                         (0 + 1) / 1]\r"
     ]
    },
    {
     "name": "stdout",
     "output_type": "stream",
     "text": [
      "+-------------+------------+--------+-----------------+\n",
      "|trip_distance|total_amount|features|       prediction|\n",
      "+-------------+------------+--------+-----------------+\n",
      "|         0.01|         3.3|  [0.01]|9.450572628399861|\n",
      "|         0.01|         3.3|  [0.01]|9.450572628399861|\n",
      "|         0.01|         3.3|  [0.01]|9.450572628399861|\n",
      "|         0.01|         3.3|  [0.01]|9.450572628399861|\n",
      "|         0.01|         3.3|  [0.01]|9.450572628399861|\n",
      "|         0.01|         3.3|  [0.01]|9.450572628399861|\n",
      "|         0.01|         3.3|  [0.01]|9.450572628399861|\n",
      "|         0.01|         3.3|  [0.01]|9.450572628399861|\n",
      "|         0.01|         3.3|  [0.01]|9.450572628399861|\n",
      "|         0.01|         3.3|  [0.01]|9.450572628399861|\n",
      "|         0.01|         3.3|  [0.01]|9.450572628399861|\n",
      "|         0.01|         3.3|  [0.01]|9.450572628399861|\n",
      "|         0.01|         3.3|  [0.01]|9.450572628399861|\n",
      "|         0.01|         3.3|  [0.01]|9.450572628399861|\n",
      "|         0.01|         3.8|  [0.01]|9.450572628399861|\n",
      "|         0.01|         3.8|  [0.01]|9.450572628399861|\n",
      "|         0.01|         3.8|  [0.01]|9.450572628399861|\n",
      "|         0.01|         3.8|  [0.01]|9.450572628399861|\n",
      "|         0.01|         3.8|  [0.01]|9.450572628399861|\n",
      "|         0.01|         3.8|  [0.01]|9.450572628399861|\n",
      "+-------------+------------+--------+-----------------+\n",
      "only showing top 20 rows\n",
      "\n"
     ]
    },
    {
     "name": "stderr",
     "output_type": "stream",
     "text": [
      "\r",
      "                                                                                \r"
     ]
    }
   ],
   "source": [
    "prediction.show()"
   ]
  },
  {
   "cell_type": "code",
   "execution_count": 31,
   "id": "0bd44bda",
   "metadata": {},
   "outputs": [
    {
     "data": {
      "text/plain": [
       "6.32310203992383"
      ]
     },
     "execution_count": 31,
     "metadata": {},
     "output_type": "execute_result"
    }
   ],
   "source": [
    "model.summary.rootMeanSquaredError"
   ]
  },
  {
   "cell_type": "code",
   "execution_count": 32,
   "id": "574dbe89",
   "metadata": {},
   "outputs": [
    {
     "data": {
      "text/plain": [
       "0.7634924733680508"
      ]
     },
     "execution_count": 32,
     "metadata": {},
     "output_type": "execute_result"
    }
   ],
   "source": [
    "model.summary.r2"
   ]
  },
  {
   "cell_type": "code",
   "execution_count": 34,
   "id": "5944d53e",
   "metadata": {},
   "outputs": [],
   "source": [
    "from pyspark.sql.types import DoubleType\n",
    "distance_list = [1.1, 5.5, 10.5, 30.0]\n",
    "distance_df = spark.createDataFrame(distance_list, DoubleType()).toDF(\"trip_distance\")"
   ]
  },
  {
   "cell_type": "code",
   "execution_count": 35,
   "id": "5b7acc8f",
   "metadata": {},
   "outputs": [
    {
     "name": "stderr",
     "output_type": "stream",
     "text": [
      "\r",
      "[Stage 19:>                                                         (0 + 1) / 1]\r"
     ]
    },
    {
     "name": "stdout",
     "output_type": "stream",
     "text": [
      "+-------------+\n",
      "|trip_distance|\n",
      "+-------------+\n",
      "|          1.1|\n",
      "|          5.5|\n",
      "|         10.5|\n",
      "|         30.0|\n",
      "+-------------+\n",
      "\n"
     ]
    },
    {
     "name": "stderr",
     "output_type": "stream",
     "text": [
      "\r",
      "                                                                                \r"
     ]
    }
   ],
   "source": [
    "distance_df.show()"
   ]
  },
  {
   "cell_type": "code",
   "execution_count": 36,
   "id": "e5e0b8e9",
   "metadata": {},
   "outputs": [],
   "source": [
    "vdistance_df = vassembler.transform(distance_df)"
   ]
  },
  {
   "cell_type": "code",
   "execution_count": 37,
   "id": "51853a96",
   "metadata": {},
   "outputs": [
    {
     "name": "stdout",
     "output_type": "stream",
     "text": [
      "+-------------+--------+\n",
      "|trip_distance|features|\n",
      "+-------------+--------+\n",
      "|          1.1|   [1.1]|\n",
      "|          5.5|   [5.5]|\n",
      "|         10.5|  [10.5]|\n",
      "|         30.0|  [30.0]|\n",
      "+-------------+--------+\n",
      "\n"
     ]
    }
   ],
   "source": [
    "vdistance_df.show()"
   ]
  },
  {
   "cell_type": "code",
   "execution_count": 38,
   "id": "0b0be0b3",
   "metadata": {},
   "outputs": [
    {
     "name": "stdout",
     "output_type": "stream",
     "text": [
      "+-------------+--------+------------------+\n",
      "|trip_distance|features|        prediction|\n",
      "+-------------+--------+------------------+\n",
      "|          1.1|   [1.1]|12.684655849989994|\n",
      "|          5.5|   [5.5]|  25.7396706894364|\n",
      "|         10.5|  [10.5]| 40.57491482517095|\n",
      "|         30.0|  [30.0]|  98.4323669545357|\n",
      "+-------------+--------+------------------+\n",
      "\n"
     ]
    }
   ],
   "source": [
    "model.transform(vdistance_df).show()"
   ]
  },
  {
   "cell_type": "code",
   "execution_count": null,
   "id": "3a6e13a6",
   "metadata": {},
   "outputs": [],
   "source": []
  }
 ],
 "metadata": {
  "kernelspec": {
   "display_name": "Python 3 (ipykernel)",
   "language": "python",
   "name": "python3"
  },
  "language_info": {
   "codemirror_mode": {
    "name": "ipython",
    "version": 3
   },
   "file_extension": ".py",
   "mimetype": "text/x-python",
   "name": "python",
   "nbconvert_exporter": "python",
   "pygments_lexer": "ipython3",
   "version": "3.9.12"
  }
 },
 "nbformat": 4,
 "nbformat_minor": 5
}
