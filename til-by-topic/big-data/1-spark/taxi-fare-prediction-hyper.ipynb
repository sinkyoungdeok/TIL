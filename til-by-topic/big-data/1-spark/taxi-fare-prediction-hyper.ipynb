{
 "cells": [
  {
   "cell_type": "code",
   "execution_count": 1,
   "id": "9a505b60",
   "metadata": {},
   "outputs": [],
   "source": [
    "from pyspark.sql import SparkSession"
   ]
  },
  {
   "cell_type": "code",
   "execution_count": 2,
   "id": "7d2e0072",
   "metadata": {},
   "outputs": [
    {
     "name": "stdout",
     "output_type": "stream",
     "text": [
      "22/08/01 00:33:48 WARN Utils: Your hostname, singyeongdeog-ui-Macmini.local resolves to a loopback address: 127.0.0.1; using 222.98.22.103 instead (on interface en0)\n",
      "22/08/01 00:33:48 WARN Utils: Set SPARK_LOCAL_IP if you need to bind to another address\n"
     ]
    },
    {
     "name": "stderr",
     "output_type": "stream",
     "text": [
      "Setting default log level to \"WARN\".\n",
      "To adjust logging level use sc.setLogLevel(newLevel). For SparkR, use setLogLevel(newLevel).\n"
     ]
    },
    {
     "name": "stdout",
     "output_type": "stream",
     "text": [
      "22/08/01 00:33:49 WARN NativeCodeLoader: Unable to load native-hadoop library for your platform... using builtin-java classes where applicable\n"
     ]
    }
   ],
   "source": [
    "MAX_MEMORY = \"5g\"\n",
    "spark = SparkSession.builder.appName(\"taxi-fare-prediction\")\\\n",
    "                    .config(\"spark.executor.memory\", MAX_MEMORY)\\\n",
    "                    .config(\"spark.driver.memory\", MAX_MEMORY)\\\n",
    "                    .getOrCreate()"
   ]
  },
  {
   "cell_type": "code",
   "execution_count": 3,
   "id": "dbeb9054",
   "metadata": {},
   "outputs": [],
   "source": [
    "data_dir = \"/Users/singyeongdeog/Documents/github_code/data-engineering/01-spark/data/data/\""
   ]
  },
  {
   "cell_type": "code",
   "execution_count": 4,
   "id": "e7f69daf",
   "metadata": {},
   "outputs": [
    {
     "name": "stderr",
     "output_type": "stream",
     "text": [
      "                                                                                \r"
     ]
    }
   ],
   "source": [
    "train_df = spark.read.parquet(f\"{data_dir}/train/\")\n",
    "test_df = spark.read.parquet(f\"{data_dir}/test/\")"
   ]
  },
  {
   "cell_type": "code",
   "execution_count": 5,
   "id": "492c17f8",
   "metadata": {},
   "outputs": [],
   "source": [
    "toy_df = train_df.sample(False, 0.1, seed=1)"
   ]
  },
  {
   "cell_type": "code",
   "execution_count": 6,
   "id": "2a62f8bf",
   "metadata": {},
   "outputs": [
    {
     "name": "stdout",
     "output_type": "stream",
     "text": [
      "root\n",
      " |-- passenger_count: double (nullable = true)\n",
      " |-- pickup_location_id: integer (nullable = true)\n",
      " |-- dropoff_location_id: integer (nullable = true)\n",
      " |-- trip_distance: double (nullable = true)\n",
      " |-- pickup_time: integer (nullable = true)\n",
      " |-- day_of_week: string (nullable = true)\n",
      " |-- total_amount: double (nullable = true)\n",
      "\n"
     ]
    }
   ],
   "source": [
    "toy_df.printSchema()"
   ]
  },
  {
   "cell_type": "code",
   "execution_count": 17,
   "id": "ffcacc39",
   "metadata": {},
   "outputs": [
    {
     "name": "stdout",
     "output_type": "stream",
     "text": [
      "root\n",
      " |-- passenger_count: double (nullable = true)\n",
      " |-- pickup_location_id: integer (nullable = true)\n",
      " |-- dropoff_location_id: integer (nullable = true)\n",
      " |-- trip_distance: double (nullable = true)\n",
      " |-- pickup_time: integer (nullable = true)\n",
      " |-- day_of_week: string (nullable = true)\n",
      " |-- total_amount: double (nullable = true)\n",
      "\n"
     ]
    }
   ],
   "source": [
    "train_df.printSchema()"
   ]
  },
  {
   "cell_type": "code",
   "execution_count": 7,
   "id": "16d4b62c",
   "metadata": {},
   "outputs": [],
   "source": [
    "# Wednesday -> 3 -> [0,0,0,1,0,0] one-hot-encoding\n",
    "from pyspark.ml.feature import OneHotEncoder, StringIndexer\n",
    "\n",
    "cat_feats = [\n",
    "    \"pickup_location_id\",\n",
    "    \"dropoff_location_id\",\n",
    "    \"day_of_week\"\n",
    "]\n",
    "\n",
    "stages = []\n",
    "\n",
    "for c in cat_feats:\n",
    "    cat_indexer = StringIndexer(inputCol=c, outputCol= c + \"_idx\").setHandleInvalid(\"keep\")\n",
    "    onehot_encoder = OneHotEncoder(inputCols=[cat_indexer.getOutputCol()], outputCols=[c + \"_onehot\"])\n",
    "    stages += [cat_indexer, onehot_encoder]"
   ]
  },
  {
   "cell_type": "code",
   "execution_count": 8,
   "id": "e0191a2c",
   "metadata": {},
   "outputs": [
    {
     "data": {
      "text/plain": [
       "[StringIndexer_98bdaf45145a,\n",
       " OneHotEncoder_08972455ca00,\n",
       " StringIndexer_498659704e2a,\n",
       " OneHotEncoder_8120ab409c8d,\n",
       " StringIndexer_c46ef6e95060,\n",
       " OneHotEncoder_cd00b84f3c08]"
      ]
     },
     "execution_count": 8,
     "metadata": {},
     "output_type": "execute_result"
    }
   ],
   "source": [
    "stages"
   ]
  },
  {
   "cell_type": "code",
   "execution_count": 9,
   "id": "6a156aef",
   "metadata": {},
   "outputs": [],
   "source": [
    "from pyspark.ml.feature import VectorAssembler, StandardScaler\n",
    "\n",
    "num_feats = [\n",
    "    \"passenger_count\",\n",
    "    \"trip_distance\",\n",
    "    \"pickup_time\"\n",
    "]\n",
    "\n",
    "for n in num_feats:\n",
    "    num_assembler = VectorAssembler(inputCols=[n], outputCol= n + \"_vector\")\n",
    "    num_scaler = StandardScaler(inputCol=num_assembler.getOutputCol(), outputCol= n + \"_scaled\")\n",
    "    stages += [num_assembler, num_scaler]"
   ]
  },
  {
   "cell_type": "code",
   "execution_count": 10,
   "id": "b010c842",
   "metadata": {},
   "outputs": [
    {
     "data": {
      "text/plain": [
       "[StringIndexer_98bdaf45145a,\n",
       " OneHotEncoder_08972455ca00,\n",
       " StringIndexer_498659704e2a,\n",
       " OneHotEncoder_8120ab409c8d,\n",
       " StringIndexer_c46ef6e95060,\n",
       " OneHotEncoder_cd00b84f3c08,\n",
       " VectorAssembler_0a510e48c8d6,\n",
       " StandardScaler_e70e5dbb45b9,\n",
       " VectorAssembler_4b435420eb82,\n",
       " StandardScaler_72911f0ea10b,\n",
       " VectorAssembler_9d35a702a410,\n",
       " StandardScaler_ab88656aac21]"
      ]
     },
     "execution_count": 10,
     "metadata": {},
     "output_type": "execute_result"
    }
   ],
   "source": [
    "stages"
   ]
  },
  {
   "cell_type": "code",
   "execution_count": 11,
   "id": "02edc9a4",
   "metadata": {},
   "outputs": [
    {
     "name": "stdout",
     "output_type": "stream",
     "text": [
      "['pickup_location_id_onehot', 'dropoff_location_id_onehot', 'day_of_week_onehot', 'passenger_count_scaled', 'trip_distance_scaled', 'pickup_time_scaled']\n"
     ]
    }
   ],
   "source": [
    "assembler_inputs = [c + \"_onehot\" for c in cat_feats] + [n + \"_scaled\" for n in num_feats]\n",
    "print(assembler_inputs)"
   ]
  },
  {
   "cell_type": "code",
   "execution_count": 12,
   "id": "1ab54221",
   "metadata": {},
   "outputs": [],
   "source": [
    "assembler = VectorAssembler(inputCols=assembler_inputs, outputCol=\"feature_vector\")"
   ]
  },
  {
   "cell_type": "code",
   "execution_count": 13,
   "id": "adbb06ed",
   "metadata": {},
   "outputs": [
    {
     "name": "stdout",
     "output_type": "stream",
     "text": [
      "[StringIndexer_98bdaf45145a, OneHotEncoder_08972455ca00, StringIndexer_498659704e2a, OneHotEncoder_8120ab409c8d, StringIndexer_c46ef6e95060, OneHotEncoder_cd00b84f3c08, VectorAssembler_0a510e48c8d6, StandardScaler_e70e5dbb45b9, VectorAssembler_4b435420eb82, StandardScaler_72911f0ea10b, VectorAssembler_9d35a702a410, StandardScaler_ab88656aac21, VectorAssembler_fa0c91eaa2d7]\n"
     ]
    }
   ],
   "source": [
    "stages += [assembler]\n",
    "print(stages)"
   ]
  },
  {
   "cell_type": "markdown",
   "id": "a0705d0d",
   "metadata": {},
   "source": [
    "## Hyperparameter Tuning"
   ]
  },
  {
   "cell_type": "code",
   "execution_count": 14,
   "id": "39cc07ac",
   "metadata": {},
   "outputs": [],
   "source": [
    "from pyspark.ml import Pipeline\n",
    "from pyspark.ml.regression import LinearRegression\n",
    "from pyspark.ml.tuning import CrossValidator, ParamGridBuilder\n",
    "from pyspark.ml.evaluation import RegressionEvaluator\n",
    "\n",
    "lr = LinearRegression(\n",
    "    maxIter=30,\n",
    "    solver=\"normal\",\n",
    "    labelCol=\"total_amount\",\n",
    "    featuresCol=\"feature_vector\"\n",
    ")\n",
    "\n",
    "cv_stages = stages + [lr]"
   ]
  },
  {
   "cell_type": "code",
   "execution_count": 15,
   "id": "8b573027",
   "metadata": {},
   "outputs": [],
   "source": [
    "cv_pipeline = Pipeline(stages = cv_stages)"
   ]
  },
  {
   "cell_type": "code",
   "execution_count": 16,
   "id": "aa2056de",
   "metadata": {},
   "outputs": [],
   "source": [
    "param_grid = ParamGridBuilder() \\\n",
    "                .addGrid(lr.elasticNetParam, [0.1,0.2,0.3,0.4,0.5])\\\n",
    "                .addGrid(lr.regParam, [0.01, 0.02, 0.03, 0.04, 0.05])\\\n",
    "                .build()"
   ]
  },
  {
   "cell_type": "code",
   "execution_count": 17,
   "id": "64a3e894",
   "metadata": {},
   "outputs": [],
   "source": [
    "cross_val = CrossValidator(estimator = cv_pipeline,\n",
    "                          estimatorParamMaps = param_grid,\n",
    "                          evaluator = RegressionEvaluator(labelCol=\"total_amount\"),\n",
    "                          numFolds=5)"
   ]
  },
  {
   "cell_type": "code",
   "execution_count": 18,
   "id": "c1521108",
   "metadata": {},
   "outputs": [
    {
     "name": "stderr",
     "output_type": "stream",
     "text": [
      "[Stage 20:>                                                         (0 + 8) / 9]\r"
     ]
    },
    {
     "name": "stdout",
     "output_type": "stream",
     "text": [
      "22/08/01 00:40:36 WARN InstanceBuilder$NativeBLAS: Failed to load implementation from:dev.ludovic.netlib.blas.JNIBLAS\n",
      "22/08/01 00:40:36 WARN InstanceBuilder$NativeBLAS: Failed to load implementation from:dev.ludovic.netlib.blas.ForeignLinkerBLAS\n"
     ]
    },
    {
     "name": "stderr",
     "output_type": "stream",
     "text": [
      "                                                                                \r"
     ]
    },
    {
     "name": "stdout",
     "output_type": "stream",
     "text": [
      "22/08/01 00:40:38 WARN BLAS: Failed to load implementation from: com.github.fommil.netlib.NativeSystemBLAS\n",
      "22/08/01 00:40:38 WARN BLAS: Failed to load implementation from: com.github.fommil.netlib.NativeRefBLAS\n"
     ]
    },
    {
     "name": "stderr",
     "output_type": "stream",
     "text": [
      "                                                                                \r"
     ]
    }
   ],
   "source": [
    "cv_model = cross_val.fit(toy_df)"
   ]
  },
  {
   "cell_type": "code",
   "execution_count": 24,
   "id": "90e063c4",
   "metadata": {},
   "outputs": [],
   "source": [
    "alpha = cv_model.bestModel.stages[-1]._java_obj.getElasticNetParam()"
   ]
  },
  {
   "cell_type": "code",
   "execution_count": 25,
   "id": "1d9ab105",
   "metadata": {},
   "outputs": [],
   "source": [
    "reg_param = cv_model.bestModel.stages[-1]._java_obj.getRegParam()"
   ]
  },
  {
   "cell_type": "markdown",
   "id": "886a0cf4",
   "metadata": {},
   "source": [
    "## Training"
   ]
  },
  {
   "cell_type": "code",
   "execution_count": 26,
   "id": "e09f3e1d",
   "metadata": {},
   "outputs": [
    {
     "name": "stderr",
     "output_type": "stream",
     "text": [
      "                                                                                \r"
     ]
    }
   ],
   "source": [
    "transform_stages = stages\n",
    "pipeline = Pipeline(stages = transform_stages)\n",
    "fitted_transformer = pipeline.fit(train_df)"
   ]
  },
  {
   "cell_type": "code",
   "execution_count": 27,
   "id": "d0973878",
   "metadata": {},
   "outputs": [],
   "source": [
    "vtrain_df = fitted_transformer.transform(train_df)"
   ]
  },
  {
   "cell_type": "code",
   "execution_count": 30,
   "id": "25b95a7f",
   "metadata": {},
   "outputs": [],
   "source": [
    "lr = LinearRegression(\n",
    "    maxIter = 5,\n",
    "    solver = \"normal\",\n",
    "    labelCol = \"total_amount\",\n",
    "    featuresCol = \"feature_vector\",\n",
    "    elasticNetParam=alpha,\n",
    "    regParam=reg_param\n",
    ")"
   ]
  },
  {
   "cell_type": "code",
   "execution_count": 31,
   "id": "4f2e908b",
   "metadata": {},
   "outputs": [
    {
     "name": "stderr",
     "output_type": "stream",
     "text": [
      "                                                                                \r"
     ]
    }
   ],
   "source": [
    "model = lr.fit(vtrain_df)"
   ]
  },
  {
   "cell_type": "code",
   "execution_count": 32,
   "id": "df072327",
   "metadata": {},
   "outputs": [],
   "source": [
    "vtest_df = fitted_transformer.transform(test_df)"
   ]
  },
  {
   "cell_type": "code",
   "execution_count": 33,
   "id": "383dce80",
   "metadata": {},
   "outputs": [],
   "source": [
    "predictions = model.transform(vtest_df)"
   ]
  },
  {
   "cell_type": "code",
   "execution_count": 34,
   "id": "11dcca76",
   "metadata": {},
   "outputs": [
    {
     "data": {
      "text/plain": [
       "DataFrame[passenger_count: double, pickup_location_id: int, dropoff_location_id: int, trip_distance: double, pickup_time: int, day_of_week: string, total_amount: double, pickup_location_id_idx: double, pickup_location_id_onehot: vector, dropoff_location_id_idx: double, dropoff_location_id_onehot: vector, day_of_week_idx: double, day_of_week_onehot: vector, passenger_count_vector: vector, passenger_count_scaled: vector, trip_distance_vector: vector, trip_distance_scaled: vector, pickup_time_vector: vector, pickup_time_scaled: vector, feature_vector: vector, prediction: double]"
      ]
     },
     "execution_count": 34,
     "metadata": {},
     "output_type": "execute_result"
    }
   ],
   "source": [
    "predictions.cache()"
   ]
  },
  {
   "cell_type": "code",
   "execution_count": 35,
   "id": "0d873b24",
   "metadata": {},
   "outputs": [
    {
     "name": "stderr",
     "output_type": "stream",
     "text": [
      "\r",
      "[Stage 3068:>                                                       (0 + 1) / 1]\r"
     ]
    },
    {
     "name": "stdout",
     "output_type": "stream",
     "text": [
      "+-------------+-----------+------------+------------------+\n",
      "|trip_distance|day_of_week|total_amount|        prediction|\n",
      "+-------------+-----------+------------+------------------+\n",
      "|          0.7|   Saturday|       12.35|12.796814635178729|\n",
      "|          1.5|     Friday|        11.8|14.539577778945041|\n",
      "|          2.9|     Sunday|        15.8|16.528791281387818|\n",
      "|          2.1|   Saturday|       15.35|16.714789390300968|\n",
      "|          1.7|   Saturday|        13.3| 14.48086011218359|\n",
      "|          0.4|   Thursday|         4.8| 9.432882486209522|\n",
      "|          1.4|     Friday|         8.3|11.708234468448047|\n",
      "|          2.2|    Tuesday|        13.3|12.259181629401228|\n",
      "|          3.8|    Tuesday|       27.25|17.405601071185306|\n",
      "|          1.7|    Tuesday|        11.8|12.351997948184742|\n",
      "|          4.5|  Wednesday|       27.65|18.950831747448834|\n",
      "|         13.4|     Monday|       66.35| 61.06223741876362|\n",
      "|         16.2|     Monday|       82.37| 67.51155225025437|\n",
      "|          7.2|  Wednesday|       32.75|28.474803407940122|\n",
      "|          4.1|     Friday|        20.8|21.876396277686027|\n",
      "|          0.4|     Friday|         7.3|13.256366449273184|\n",
      "|          5.1|  Wednesday|       24.95|26.765173967842998|\n",
      "|          9.1|   Saturday|       45.85| 33.09627550129305|\n",
      "|          9.3|     Friday|        36.3|  33.0007833163353|\n",
      "|          6.6|   Saturday|        25.3|27.814922758104125|\n",
      "+-------------+-----------+------------+------------------+\n",
      "only showing top 20 rows\n",
      "\n"
     ]
    },
    {
     "name": "stderr",
     "output_type": "stream",
     "text": [
      "\r",
      "                                                                                \r"
     ]
    }
   ],
   "source": [
    "predictions.select([\"trip_distance\",\"day_of_week\",\"total_amount\",\"prediction\"]).show()"
   ]
  },
  {
   "cell_type": "code",
   "execution_count": 36,
   "id": "1962ea9b",
   "metadata": {},
   "outputs": [
    {
     "data": {
      "text/plain": [
       "5.714217632611252"
      ]
     },
     "execution_count": 36,
     "metadata": {},
     "output_type": "execute_result"
    }
   ],
   "source": [
    "model.summary.rootMeanSquaredError"
   ]
  },
  {
   "cell_type": "code",
   "execution_count": 37,
   "id": "34a13162",
   "metadata": {},
   "outputs": [
    {
     "data": {
      "text/plain": [
       "0.8038821465514306"
      ]
     },
     "execution_count": 37,
     "metadata": {},
     "output_type": "execute_result"
    }
   ],
   "source": [
    "model.summary.r2 # 정확도"
   ]
  },
  {
   "cell_type": "code",
   "execution_count": 38,
   "id": "74404cc3",
   "metadata": {},
   "outputs": [],
   "source": [
    "# 저장\n",
    "model_dir = \"/Users/singyeongdeog/Documents/github_code/data-engineering/01-spark/data/model/\"\n",
    "model.save(model_dir)"
   ]
  },
  {
   "cell_type": "code",
   "execution_count": 39,
   "id": "81221f99",
   "metadata": {},
   "outputs": [],
   "source": [
    "# 불러오기 \n",
    "from pyspark.ml.regression import LinearRegressionModel\n",
    "lr_model = LinearRegressionModel().load(model_dir)"
   ]
  },
  {
   "cell_type": "code",
   "execution_count": 40,
   "id": "97bba7f0",
   "metadata": {},
   "outputs": [],
   "source": [
    "predictions = lr_model.transform(vtest_df)"
   ]
  },
  {
   "cell_type": "code",
   "execution_count": 41,
   "id": "d1f93470",
   "metadata": {},
   "outputs": [
    {
     "name": "stdout",
     "output_type": "stream",
     "text": [
      "+---------------+------------------+-------------------+-------------+-----------+-----------+------------+----------------------+-------------------------+-----------------------+--------------------------+---------------+------------------+----------------------+----------------------+--------------------+--------------------+------------------+--------------------+--------------------+------------------+\n",
      "|passenger_count|pickup_location_id|dropoff_location_id|trip_distance|pickup_time|day_of_week|total_amount|pickup_location_id_idx|pickup_location_id_onehot|dropoff_location_id_idx|dropoff_location_id_onehot|day_of_week_idx|day_of_week_onehot|passenger_count_vector|passenger_count_scaled|trip_distance_vector|trip_distance_scaled|pickup_time_vector|  pickup_time_scaled|      feature_vector|        prediction|\n",
      "+---------------+------------------+-------------------+-------------+-----------+-----------+------------+----------------------+-------------------------+-----------------------+--------------------------+---------------+------------------+----------------------+----------------------+--------------------+--------------------+------------------+--------------------+--------------------+------------------+\n",
      "|            0.0|                 4|                 79|          0.7|         23|   Saturday|       12.35|                  62.0|         (262,[62],[1.0])|                   18.0|          (261,[18],[1.0])|            4.0|     (7,[4],[1.0])|                 [0.0]|                 [0.0]|               [0.7]|[0.18306895642139...|            [23.0]| [4.494297364760081]|(533,[62,280,527,...|12.796814635178729|\n",
      "|            0.0|                 4|                137|          1.5|         17|     Friday|        11.8|                  62.0|         (262,[62],[1.0])|                   26.0|          (261,[26],[1.0])|            0.0|     (7,[0],[1.0])|                 [0.0]|                 [0.0]|               [1.5]|[0.3922906209029854]|            [17.0]|[3.3218719652574515]|(533,[62,288,523,...|14.539577778945041|\n",
      "|            0.0|                 4|                229|          2.9|          1|     Sunday|        15.8|                  62.0|         (262,[62],[1.0])|                   13.0|          (261,[13],[1.0])|            6.0|     (7,[6],[1.0])|                 [0.0]|                 [0.0]|               [2.9]|[0.7584285337457717]|             [1.0]|[0.19540423325043...|(533,[62,275,529,...|16.528791281387818|\n",
      "|            0.0|                 4|                231|          2.1|         23|   Saturday|       15.35|                  62.0|         (262,[62],[1.0])|                   31.0|          (261,[31],[1.0])|            4.0|     (7,[4],[1.0])|                 [0.0]|                 [0.0]|               [2.1]|[0.5492068692641796]|            [23.0]| [4.494297364760081]|(533,[62,293,527,...|16.714789390300968|\n",
      "|            0.0|                 4|                234|          1.7|         18|   Saturday|        13.3|                  62.0|         (262,[62],[1.0])|                   12.0|          (261,[12],[1.0])|            4.0|     (7,[4],[1.0])|                 [0.0]|                 [0.0]|               [1.7]|[0.4445960370233834]|            [18.0]|  [3.51727619850789]|(533,[62,274,527,...| 14.48086011218359|\n",
      "|            0.0|                 7|                  7|          0.4|         13|   Thursday|         4.8|                  63.0|         (262,[63],[1.0])|                   57.0|          (261,[57],[1.0])|            1.0|     (7,[1],[1.0])|                 [0.0]|                 [0.0]|               [0.4]|[0.1046108322407961]|            [13.0]|[2.5402550322556983]|(533,[63,319,524,...| 9.432882486209522|\n",
      "|            0.0|                 7|                  7|          1.4|         14|     Friday|         8.3|                  63.0|         (262,[63],[1.0])|                   57.0|          (261,[57],[1.0])|            0.0|     (7,[0],[1.0])|                 [0.0]|                 [0.0]|               [1.4]|[0.36613791284278...|            [14.0]|[2.7356592655061363]|(533,[63,319,523,...|11.708234468448047|\n",
      "|            0.0|                 7|                129|          2.2|         13|    Tuesday|        13.3|                  63.0|         (262,[63],[1.0])|                   72.0|          (261,[72],[1.0])|            3.0|     (7,[3],[1.0])|                 [0.0]|                 [0.0]|               [2.2]|[0.5753595773243786]|            [13.0]|[2.5402550322556983]|(533,[63,334,526,...|12.259181629401228|\n",
      "|            0.0|                 7|                142|          3.8|         10|    Tuesday|       27.25|                  63.0|         (262,[63],[1.0])|                    6.0|           (261,[6],[1.0])|            3.0|     (7,[3],[1.0])|                 [0.0]|                 [0.0]|               [3.8]| [0.993802906287563]|            [10.0]|[1.9540423325043832]|(533,[63,268,526,...|17.405601071185306|\n",
      "|            0.0|                 7|                223|          1.7|          9|    Tuesday|        11.8|                  63.0|         (262,[63],[1.0])|                   71.0|          (261,[71],[1.0])|            3.0|     (7,[3],[1.0])|                 [0.0]|                 [0.0]|               [1.7]|[0.4445960370233834]|             [9.0]| [1.758638099253945]|(533,[63,333,526,...|12.351997948184742|\n",
      "|            0.0|                 7|                236|          4.5|          7|  Wednesday|       27.65|                  63.0|         (262,[63],[1.0])|                    0.0|           (261,[0],[1.0])|            2.0|     (7,[2],[1.0])|                 [0.0]|                 [0.0]|               [4.5]| [1.176871862708956]|             [7.0]|[1.3678296327530681]|(533,[63,262,525,...|18.950831747448834|\n",
      "|            0.0|                10|                140|         13.4|         22|     Monday|       66.35|                  85.0|         (262,[85],[1.0])|                   11.0|          (261,[11],[1.0])|            5.0|     (7,[5],[1.0])|                 [0.0]|                 [0.0]|              [13.4]|[3.5044628800666695]|            [22.0]| [4.298893131509643]|(533,[85,273,528,...| 61.06223741876362|\n",
      "|            0.0|                10|                236|         16.2|         18|     Monday|       82.37|                  85.0|         (262,[85],[1.0])|                    0.0|           (261,[0],[1.0])|            5.0|     (7,[5],[1.0])|                 [0.0]|                 [0.0]|              [16.2]| [4.236738705752242]|            [18.0]|  [3.51727619850789]|(533,[85,262,528,...| 67.51155225025437|\n",
      "|            0.0|                12|                140|          7.2|         16|  Wednesday|       32.75|                  71.0|         (262,[71],[1.0])|                   11.0|          (261,[11],[1.0])|            2.0|     (7,[2],[1.0])|                 [0.0]|                 [0.0]|               [7.2]|  [1.88299498033433]|            [16.0]| [3.126467732007013]|(533,[71,273,525,...|28.474803407940122|\n",
      "|            0.0|                12|                246|          4.1|         14|     Friday|        20.8|                  71.0|         (262,[71],[1.0])|                   24.0|          (261,[24],[1.0])|            0.0|     (7,[0],[1.0])|                 [0.0]|                 [0.0]|               [4.1]|  [1.07226103046816]|            [14.0]|[2.7356592655061363]|(533,[71,286,523,...|21.876396277686027|\n",
      "|            0.0|                13|                 12|          0.4|         15|     Friday|         7.3|                  47.0|         (262,[47],[1.0])|                  114.0|         (261,[114],[1.0])|            0.0|     (7,[0],[1.0])|                 [0.0]|                 [0.0]|               [0.4]|[0.1046108322407961]|            [15.0]|[2.9310634987565747]|(533,[47,376,523,...|13.256366449273184|\n",
      "|            0.0|                13|                 40|          5.1|         21|  Wednesday|       24.95|                  47.0|         (262,[47],[1.0])|                   89.0|          (261,[89],[1.0])|            2.0|     (7,[2],[1.0])|                 [0.0]|                 [0.0]|               [5.1]|[1.3337881110701502]|            [21.0]| [4.103488898259204]|(533,[47,351,525,...|26.765173967842998|\n",
      "|            0.0|                13|                 42|          9.1|         18|   Saturday|       45.85|                  47.0|         (262,[47],[1.0])|                   43.0|          (261,[43],[1.0])|            4.0|     (7,[4],[1.0])|                 [0.0]|                 [0.0]|               [9.1]| [2.379896433478111]|            [18.0]|  [3.51727619850789]|(533,[47,305,527,...| 33.09627550129305|\n",
      "|            0.0|                13|                 75|          9.3|          7|     Friday|        36.3|                  47.0|         (262,[47],[1.0])|                   19.0|          (261,[19],[1.0])|            0.0|     (7,[0],[1.0])|                 [0.0]|                 [0.0]|               [9.3]|[2.4322018495985094]|             [7.0]|[1.3678296327530681]|(533,[47,281,523,...|  33.0007833163353|\n",
      "|            0.0|                13|                 80|          6.6|         13|   Saturday|        25.3|                  47.0|         (262,[47],[1.0])|                   83.0|          (261,[83],[1.0])|            4.0|     (7,[4],[1.0])|                 [0.0]|                 [0.0]|               [6.6]|[1.7260787319731357]|            [13.0]|[2.5402550322556983]|(533,[47,345,527,...|27.814922758104125|\n",
      "+---------------+------------------+-------------------+-------------+-----------+-----------+------------+----------------------+-------------------------+-----------------------+--------------------------+---------------+------------------+----------------------+----------------------+--------------------+--------------------+------------------+--------------------+--------------------+------------------+\n",
      "only showing top 20 rows\n",
      "\n"
     ]
    }
   ],
   "source": [
    "predictions.show()"
   ]
  },
  {
   "cell_type": "code",
   "execution_count": null,
   "id": "5d8e31cc",
   "metadata": {},
   "outputs": [],
   "source": []
  }
 ],
 "metadata": {
  "kernelspec": {
   "display_name": "Python 3 (ipykernel)",
   "language": "python",
   "name": "python3"
  },
  "language_info": {
   "codemirror_mode": {
    "name": "ipython",
    "version": 3
   },
   "file_extension": ".py",
   "mimetype": "text/x-python",
   "name": "python",
   "nbconvert_exporter": "python",
   "pygments_lexer": "ipython3",
   "version": "3.9.12"
  }
 },
 "nbformat": 4,
 "nbformat_minor": 5
}
