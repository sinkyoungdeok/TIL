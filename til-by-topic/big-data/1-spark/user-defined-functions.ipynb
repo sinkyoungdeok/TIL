{
 "cells": [
  {
   "cell_type": "code",
   "execution_count": 1,
   "id": "3d96f5c5",
   "metadata": {},
   "outputs": [],
   "source": [
    "from pyspark.sql import SparkSession"
   ]
  },
  {
   "cell_type": "code",
   "execution_count": 2,
   "id": "b35cd4ac",
   "metadata": {},
   "outputs": [
    {
     "name": "stdout",
     "output_type": "stream",
     "text": [
      "22/07/30 23:19:22 WARN Utils: Your hostname, singyeongdeog-ui-Macmini.local resolves to a loopback address: 127.0.0.1; using 222.98.22.103 instead (on interface en0)\n",
      "22/07/30 23:19:22 WARN Utils: Set SPARK_LOCAL_IP if you need to bind to another address\n"
     ]
    },
    {
     "name": "stderr",
     "output_type": "stream",
     "text": [
      "Setting default log level to \"WARN\".\n",
      "To adjust logging level use sc.setLogLevel(newLevel). For SparkR, use setLogLevel(newLevel).\n"
     ]
    },
    {
     "name": "stdout",
     "output_type": "stream",
     "text": [
      "22/07/30 23:19:22 WARN NativeCodeLoader: Unable to load native-hadoop library for your platform... using builtin-java classes where applicable\n"
     ]
    }
   ],
   "source": [
    "spark = SparkSession.builder.appName(\"udf\").getOrCreate()"
   ]
  },
  {
   "cell_type": "code",
   "execution_count": 3,
   "id": "85d3f488",
   "metadata": {},
   "outputs": [],
   "source": [
    "transactions = [\n",
    "    ('찹쌀탕수육+짜장2', '2021-11-07 13:20:00', 22000, 'KRW'),\n",
    "    ('등심탕수육+크립새우+짜장면', '2021-10-24 11:19:00', 21500, 'KRW'), \n",
    "    ('월남 쌈 2인 세트', '2021-07-25 11:12:40', 42000, 'KRW'), \n",
    "    ('콩국수+열무비빔국수', '2021-07-10 08:20:00', 21250, 'KRW'), \n",
    "    ('장어소금+고추장구이', '2021-07-01 05:36:00', 68700, 'KRW'), \n",
    "    ('족발', '2020-08-19 19:04:00', 32000, 'KRW'),  \n",
    "]\n",
    "\n",
    "schema = [\"name\", \"datetime\", \"price\", \"currency\"]"
   ]
  },
  {
   "cell_type": "code",
   "execution_count": 4,
   "id": "3d12ea40",
   "metadata": {},
   "outputs": [],
   "source": [
    "df = spark.createDataFrame(data=transactions, schema=schema)"
   ]
  },
  {
   "cell_type": "code",
   "execution_count": 5,
   "id": "bfddb30a",
   "metadata": {},
   "outputs": [],
   "source": [
    "df.createOrReplaceTempView(\"transactions\")"
   ]
  },
  {
   "cell_type": "code",
   "execution_count": 6,
   "id": "095adff3",
   "metadata": {},
   "outputs": [
    {
     "name": "stderr",
     "output_type": "stream",
     "text": [
      "                                                                                \r"
     ]
    },
    {
     "name": "stdout",
     "output_type": "stream",
     "text": [
      "+--------------------------+-------------------+-----+--------+\n",
      "|                      name|           datetime|price|currency|\n",
      "+--------------------------+-------------------+-----+--------+\n",
      "|          찹쌀탕수육+짜장2|2021-11-07 13:20:00|22000|     KRW|\n",
      "|등심탕수육+크립새우+짜장면|2021-10-24 11:19:00|21500|     KRW|\n",
      "|          월남 쌈 2인 세트|2021-07-25 11:12:40|42000|     KRW|\n",
      "|       콩국수+열무비빔국수|2021-07-10 08:20:00|21250|     KRW|\n",
      "|       장어소금+고추장구이|2021-07-01 05:36:00|68700|     KRW|\n",
      "|                      족발|2020-08-19 19:04:00|32000|     KRW|\n",
      "+--------------------------+-------------------+-----+--------+\n",
      "\n"
     ]
    }
   ],
   "source": [
    "spark.sql(\"SELECT * FROM transactions\").show()"
   ]
  },
  {
   "cell_type": "code",
   "execution_count": 8,
   "id": "cda32437",
   "metadata": {},
   "outputs": [
    {
     "data": {
      "text/plain": [
       "<function __main__.squared(n)>"
      ]
     },
     "execution_count": 8,
     "metadata": {},
     "output_type": "execute_result"
    }
   ],
   "source": [
    "def squared(n):\n",
    "    return n*n\n",
    "\n",
    "spark.udf.register(\"squared\", squared)"
   ]
  },
  {
   "cell_type": "code",
   "execution_count": 9,
   "id": "6fe5b85f",
   "metadata": {},
   "outputs": [
    {
     "name": "stdout",
     "output_type": "stream",
     "text": [
      "+-----+--------------+\n",
      "|price|squared(price)|\n",
      "+-----+--------------+\n",
      "|22000|     484000000|\n",
      "|21500|     462250000|\n",
      "|42000|    1764000000|\n",
      "|21250|     451562500|\n",
      "|68700|    4719690000|\n",
      "|32000|    1024000000|\n",
      "+-----+--------------+\n",
      "\n"
     ]
    }
   ],
   "source": [
    "spark.sql(\"SELECT price, squared(price) FROM transactions\").show()"
   ]
  },
  {
   "cell_type": "code",
   "execution_count": 10,
   "id": "7464a7b7",
   "metadata": {},
   "outputs": [
    {
     "name": "stdout",
     "output_type": "stream",
     "text": [
      "root\n",
      " |-- price: long (nullable = true)\n",
      " |-- squared(price): string (nullable = true)\n",
      "\n"
     ]
    }
   ],
   "source": [
    "spark.sql(\"SELECT price, squared(price) FROM transactions\").printSchema()"
   ]
  },
  {
   "cell_type": "code",
   "execution_count": 11,
   "id": "769df597",
   "metadata": {},
   "outputs": [
    {
     "name": "stdout",
     "output_type": "stream",
     "text": [
      "22/07/30 23:25:31 WARN SimpleFunctionRegistry: The function squared replaced a previously registered function.\n"
     ]
    },
    {
     "data": {
      "text/plain": [
       "<function __main__.squared(n)>"
      ]
     },
     "execution_count": 11,
     "metadata": {},
     "output_type": "execute_result"
    }
   ],
   "source": [
    "from pyspark.sql.types import LongType\n",
    "\n",
    "def squared(n):\n",
    "    return n*n\n",
    "\n",
    "spark.udf.register(\"squared\", squared, LongType())"
   ]
  },
  {
   "cell_type": "code",
   "execution_count": 12,
   "id": "cb903a51",
   "metadata": {},
   "outputs": [
    {
     "name": "stdout",
     "output_type": "stream",
     "text": [
      "root\n",
      " |-- price: long (nullable = true)\n",
      " |-- squared(price): long (nullable = true)\n",
      "\n"
     ]
    }
   ],
   "source": [
    "spark.sql(\"SELECT price, squared(price) FROM transactions\").printSchema()"
   ]
  },
  {
   "cell_type": "code",
   "execution_count": null,
   "id": "98b78f99",
   "metadata": {},
   "outputs": [],
   "source": []
  },
  {
   "cell_type": "code",
   "execution_count": 14,
   "id": "ab0d8553",
   "metadata": {},
   "outputs": [
    {
     "name": "stdout",
     "output_type": "stream",
     "text": [
      "+-----+--------------+\n",
      "|price|squared(price)|\n",
      "+-----+--------------+\n",
      "|22000|     484000000|\n",
      "|21500|     462250000|\n",
      "|42000|    1764000000|\n",
      "|21250|     451562500|\n",
      "|68700|    4719690000|\n",
      "|32000|    1024000000|\n",
      "+-----+--------------+\n",
      "\n"
     ]
    }
   ],
   "source": [
    "from pyspark.sql.types import LongType\n",
    "from pyspark.sql.functions import udf\n",
    "\n",
    "@udf(\"long\")\n",
    "def squared(n):\n",
    "    return n*n\n",
    "spark.sql(\"SELECT price, squared(price) FROM transactions\").show()"
   ]
  },
  {
   "cell_type": "code",
   "execution_count": null,
   "id": "9f3804fe",
   "metadata": {},
   "outputs": [],
   "source": []
  },
  {
   "cell_type": "code",
   "execution_count": null,
   "id": "42ff6151",
   "metadata": {},
   "outputs": [],
   "source": []
  },
  {
   "cell_type": "code",
   "execution_count": 16,
   "id": "4ac5cde0",
   "metadata": {},
   "outputs": [
    {
     "name": "stdout",
     "output_type": "stream",
     "text": [
      "이만일천이백오십\n",
      "육만팔천칠백\n"
     ]
    }
   ],
   "source": [
    "def read_number(n):\n",
    "    units = [\"\",\"십\",\"백\",\"천\",\"만\"]\n",
    "    nums = '일이삼사오육칠팔구'\n",
    "    result = []\n",
    "    i = 0\n",
    "    while n > 0:\n",
    "        n, r = divmod(n, 10)\n",
    "        if r > 0:\n",
    "            result.append(nums[r-1] + units[i])\n",
    "        i += 1\n",
    "    return \"\".join(reversed(result))\n",
    "    \n",
    "\n",
    "print(read_number(21250))\n",
    "print(read_number(68700))"
   ]
  },
  {
   "cell_type": "code",
   "execution_count": 17,
   "id": "ba542a5e",
   "metadata": {},
   "outputs": [
    {
     "data": {
      "text/plain": [
       "<function __main__.read_number(n)>"
      ]
     },
     "execution_count": 17,
     "metadata": {},
     "output_type": "execute_result"
    }
   ],
   "source": [
    "spark.udf.register(\"read_number\", read_number)"
   ]
  },
  {
   "cell_type": "code",
   "execution_count": 18,
   "id": "884c427d",
   "metadata": {},
   "outputs": [
    {
     "name": "stdout",
     "output_type": "stream",
     "text": [
      "+-----+------------------+\n",
      "|price|read_number(price)|\n",
      "+-----+------------------+\n",
      "|22000|          이만이천|\n",
      "|21500|      이만일천오백|\n",
      "|42000|          사만이천|\n",
      "|21250|  이만일천이백오십|\n",
      "|68700|      육만팔천칠백|\n",
      "|32000|          삼만이천|\n",
      "+-----+------------------+\n",
      "\n"
     ]
    }
   ],
   "source": [
    "spark.sql(\"SELECT price, read_number(price) FROM transactions\").show()"
   ]
  },
  {
   "cell_type": "code",
   "execution_count": 19,
   "id": "5a753386",
   "metadata": {},
   "outputs": [
    {
     "data": {
      "text/plain": [
       "<function __main__.get_weekday(date)>"
      ]
     },
     "execution_count": 19,
     "metadata": {},
     "output_type": "execute_result"
    }
   ],
   "source": [
    "def get_weekday(date):\n",
    "    import calendar\n",
    "    return calendar.day_name[date.weekday()]\n",
    "\n",
    "spark.udf.register(\"get_weekday\", get_weekday)"
   ]
  },
  {
   "cell_type": "code",
   "execution_count": 20,
   "id": "a89138b5",
   "metadata": {},
   "outputs": [
    {
     "name": "stdout",
     "output_type": "stream",
     "text": [
      "+-------------------+-----------+\n",
      "|           datetime|day_of_week|\n",
      "+-------------------+-----------+\n",
      "|2021-11-07 13:20:00|     Sunday|\n",
      "|2021-10-24 11:19:00|     Sunday|\n",
      "|2021-07-25 11:12:40|     Sunday|\n",
      "|2021-07-10 08:20:00|   Saturday|\n",
      "|2021-07-01 05:36:00|   Thursday|\n",
      "|2020-08-19 19:04:00|  Wednesday|\n",
      "+-------------------+-----------+\n",
      "\n"
     ]
    }
   ],
   "source": [
    "query = \"\"\"\n",
    "SELECT\n",
    "    datetime,\n",
    "    get_weekday(TO_DATE(datetime)) as day_of_week\n",
    "FROM\n",
    "    transactions\n",
    "\"\"\"\n",
    "spark.sql(query).show()"
   ]
  },
  {
   "cell_type": "code",
   "execution_count": null,
   "id": "7b9095b4",
   "metadata": {},
   "outputs": [],
   "source": []
  }
 ],
 "metadata": {
  "kernelspec": {
   "display_name": "Python 3 (ipykernel)",
   "language": "python",
   "name": "python3"
  },
  "language_info": {
   "codemirror_mode": {
    "name": "ipython",
    "version": 3
   },
   "file_extension": ".py",
   "mimetype": "text/x-python",
   "name": "python",
   "nbconvert_exporter": "python",
   "pygments_lexer": "ipython3",
   "version": "3.9.12"
  }
 },
 "nbformat": 4,
 "nbformat_minor": 5
}
