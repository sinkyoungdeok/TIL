{
 "cells": [
  {
   "cell_type": "code",
   "execution_count": 57,
   "id": "1a25052f",
   "metadata": {},
   "outputs": [],
   "source": [
    "styling = [\n",
    "    (1,1,1,3000),\n",
    "    (1,1,2,4000),\n",
    "    (1,2,3,2000),\n",
    "    (1,3,3,5000),\n",
    "    (1,4,4,1000),\n",
    "    (1,5,5,7000),\n",
    "    (1,6,6,500),\n",
    "    (1,8,8,2000),\n",
    "    (1,8,7,1500),\n",
    "    (1,7,8,1300),\n",
    "    (2,1,1,1700),\n",
    "    (2,1,2,1200)\n",
    "]"
   ]
  },
  {
   "cell_type": "code",
   "execution_count": 58,
   "id": "f8d65da9",
   "metadata": {},
   "outputs": [],
   "source": [
    "from pyspark.sql import SparkSession\n",
    "from pyspark.sql.window import Window\n",
    "from pyspark.sql.functions import row_number, first"
   ]
  },
  {
   "cell_type": "code",
   "execution_count": 59,
   "id": "c89c5e6c",
   "metadata": {},
   "outputs": [],
   "source": [
    "spark = SparkSession.builder.master(\"local\").appName(\"learn-sql\").getOrCreate()"
   ]
  },
  {
   "cell_type": "code",
   "execution_count": 60,
   "id": "a0e3705a",
   "metadata": {},
   "outputs": [],
   "source": [
    "stylingSchema = [ \"id\", \"nickname\", \"card_id\", \"score\"]"
   ]
  },
  {
   "cell_type": "code",
   "execution_count": 61,
   "id": "652865f6",
   "metadata": {},
   "outputs": [],
   "source": [
    "df = spark.createDataFrame(data=styling, schema=stylingSchema)"
   ]
  },
  {
   "cell_type": "code",
   "execution_count": 62,
   "id": "387eae52",
   "metadata": {},
   "outputs": [],
   "source": [
    "df.createOrReplaceTempView(\"styling\")"
   ]
  },
  {
   "cell_type": "code",
   "execution_count": 67,
   "id": "89c1bddf",
   "metadata": {},
   "outputs": [
    {
     "name": "stdout",
     "output_type": "stream",
     "text": [
      "+---+--------+-------+-----+-------------+--------------+\n",
      "| id|nickname|card_id|score|first_card_id|first_nickname|\n",
      "+---+--------+-------+-----+-------------+--------------+\n",
      "|  1|       1|      1| 3000|            2|             1|\n",
      "|  1|       1|      2| 4000|            2|             1|\n",
      "|  1|       3|      3| 5000|            3|             3|\n",
      "|  1|       2|      3| 2000|            3|             3|\n",
      "|  1|       4|      4| 1000|            4|             4|\n",
      "|  1|       5|      5| 7000|            5|             5|\n",
      "|  1|       6|      6|  500|            6|             6|\n",
      "|  1|       8|      7| 1500|            8|             8|\n",
      "|  1|       8|      8| 2000|            8|             8|\n",
      "|  1|       7|      8| 1300|            8|             8|\n",
      "|  2|       1|      1| 1700|            1|             1|\n",
      "|  2|       1|      2| 1200|            1|             1|\n",
      "+---+--------+-------+-----+-------------+--------------+\n",
      "\n"
     ]
    }
   ],
   "source": [
    "from pyspark.sql.functions import col\n",
    "windowSpec = Window.partitionBy(\"id\", \"nickname\").orderBy(col(\"score\").desc(), \"card_id\")\n",
    "nicknameWindowSpec = Window.partitionBy(\"id\", \"card_id\").orderBy(col(\"score\").desc(), \"nickname\")\n",
    "\n",
    "testDF = spark.sql(\"select * from styling order by score DESC\")\\\n",
    "    .withColumn(\"first_card_id\", first(\"card_id\").over(windowSpec))\\\n",
    "    .withColumn(\"first_nickname\", first(\"nickname\").over(nicknameWindowSpec))\n",
    "\n",
    "testDF.show()\n",
    "testDF.createOrReplaceTempView(\"styling\")"
   ]
  },
  {
   "cell_type": "code",
   "execution_count": 68,
   "id": "bd7ee791",
   "metadata": {},
   "outputs": [
    {
     "name": "stdout",
     "output_type": "stream",
     "text": [
      "+---+--------+-------+-----+-------------+--------------+\n",
      "| id|nickname|card_id|score|first_card_id|first_nickname|\n",
      "+---+--------+-------+-----+-------------+--------------+\n",
      "|  1|       1|      2| 4000|            2|             1|\n",
      "|  1|       3|      3| 5000|            3|             3|\n",
      "|  1|       4|      4| 1000|            4|             4|\n",
      "|  1|       5|      5| 7000|            5|             5|\n",
      "|  1|       6|      6|  500|            6|             6|\n",
      "|  1|       8|      8| 2000|            8|             8|\n",
      "|  2|       1|      1| 1700|            1|             1|\n",
      "+---+--------+-------+-----+-------------+--------------+\n",
      "\n"
     ]
    }
   ],
   "source": [
    "query = \"select * from styling WHERE first_card_id = card_id AND first_nickname = nickname\"\n",
    "spark.sql(query).show()"
   ]
  },
  {
   "cell_type": "code",
   "execution_count": 77,
   "id": "d1e1d9c6",
   "metadata": {},
   "outputs": [],
   "source": [
    "windowSpec = Window.partitionBy(\"id\").orderBy(\"id\")"
   ]
  },
  {
   "cell_type": "code",
   "execution_count": 78,
   "id": "ff82418d",
   "metadata": {},
   "outputs": [
    {
     "name": "stdout",
     "output_type": "stream",
     "text": [
      "+---+--------+-------+----+\n",
      "| id|nickname|card_id|rank|\n",
      "+---+--------+-------+----+\n",
      "|  1|       1|      1|   1|\n",
      "|  1|       1|      2|   2|\n",
      "|  1|       2|      3|   3|\n",
      "|  2|       1|      1|   1|\n",
      "|  2|       1|      2|   2|\n",
      "+---+--------+-------+----+\n",
      "\n"
     ]
    }
   ],
   "source": [
    "query = \"select * from styling\"\n",
    "spark.sql(query)\\\n",
    "    .withColumn(\"rank\", row_number().over(windowSpec))\\\n",
    "    .show()"
   ]
  },
  {
   "cell_type": "code",
   "execution_count": 79,
   "id": "4a2813d6",
   "metadata": {},
   "outputs": [
    {
     "name": "stdout",
     "output_type": "stream",
     "text": [
      "+---+--------+-------+----+-------------+\n",
      "| id|nickname|card_id|rank|first_card_id|\n",
      "+---+--------+-------+----+-------------+\n",
      "|  1|       1|      1|   1|            1|\n",
      "|  1|       1|      2|   2|            1|\n",
      "|  1|       2|      3|   1|            3|\n",
      "|  2|       1|      1|   1|            1|\n",
      "|  2|       1|      2|   2|            1|\n",
      "+---+--------+-------+----+-------------+\n",
      "\n"
     ]
    }
   ],
   "source": [
    "windowSpec = Window.partitionBy(\"id\", \"nickname\").orderBy(\"card_id\")\n",
    "query = \"select * from styling\"\n",
    "\n",
    "testDF = spark.sql(query)\\\n",
    "    .withColumn(\"rank\", row_number().over(windowSpec))\\\n",
    "    .withColumn(\"first_card_id\", first(\"card_id\").over(windowSpec))\n",
    "\n",
    "testDF.show()"
   ]
  },
  {
   "cell_type": "code",
   "execution_count": 80,
   "id": "3596d730",
   "metadata": {},
   "outputs": [],
   "source": [
    "testDF.createOrReplaceTempView(\"styling2\")"
   ]
  },
  {
   "cell_type": "code",
   "execution_count": 81,
   "id": "c8faa8db",
   "metadata": {},
   "outputs": [
    {
     "name": "stdout",
     "output_type": "stream",
     "text": [
      "+---+--------+-------+----+-------------+\n",
      "| id|nickname|card_id|rank|first_card_id|\n",
      "+---+--------+-------+----+-------------+\n",
      "|  1|       1|      1|   1|            1|\n",
      "|  1|       2|      3|   1|            3|\n",
      "|  2|       1|      1|   1|            1|\n",
      "+---+--------+-------+----+-------------+\n",
      "\n"
     ]
    }
   ],
   "source": [
    "query = \"select * from styling2 where card_id = first_card_id\"\n",
    "\n",
    "spark.sql(query).show()"
   ]
  },
  {
   "cell_type": "code",
   "execution_count": null,
   "id": "7c2735fc",
   "metadata": {},
   "outputs": [],
   "source": []
  },
  {
   "cell_type": "code",
   "execution_count": null,
   "id": "3f891dfb",
   "metadata": {},
   "outputs": [],
   "source": []
  },
  {
   "cell_type": "code",
   "execution_count": null,
   "id": "bf7de90d",
   "metadata": {},
   "outputs": [],
   "source": []
  }
 ],
 "metadata": {
  "kernelspec": {
   "display_name": "Python 3 (ipykernel)",
   "language": "python",
   "name": "python3"
  },
  "language_info": {
   "codemirror_mode": {
    "name": "ipython",
    "version": 3
   },
   "file_extension": ".py",
   "mimetype": "text/x-python",
   "name": "python",
   "nbconvert_exporter": "python",
   "pygments_lexer": "ipython3",
   "version": "3.9.12"
  }
 },
 "nbformat": 4,
 "nbformat_minor": 5
}
