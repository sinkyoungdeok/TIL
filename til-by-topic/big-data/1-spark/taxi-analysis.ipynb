{
 "cells": [
  {
   "cell_type": "code",
   "execution_count": 1,
   "id": "68f0f011",
   "metadata": {},
   "outputs": [],
   "source": [
    "from pyspark.sql import SparkSession"
   ]
  },
  {
   "cell_type": "code",
   "execution_count": 2,
   "id": "f59f192f",
   "metadata": {},
   "outputs": [
    {
     "name": "stdout",
     "output_type": "stream",
     "text": [
      "22/07/31 00:35:29 WARN Utils: Your hostname, singyeongdeog-ui-Macmini.local resolves to a loopback address: 127.0.0.1; using 222.98.22.103 instead (on interface en0)\n",
      "22/07/31 00:35:29 WARN Utils: Set SPARK_LOCAL_IP if you need to bind to another address\n"
     ]
    },
    {
     "name": "stderr",
     "output_type": "stream",
     "text": [
      "Setting default log level to \"WARN\".\n",
      "To adjust logging level use sc.setLogLevel(newLevel). For SparkR, use setLogLevel(newLevel).\n"
     ]
    },
    {
     "name": "stdout",
     "output_type": "stream",
     "text": [
      "22/07/31 00:35:30 WARN NativeCodeLoader: Unable to load native-hadoop library for your platform... using builtin-java classes where applicable\n"
     ]
    }
   ],
   "source": [
    "spark = SparkSession.builder.appName(\"taxi-analysis\").getOrCreate()"
   ]
  },
  {
   "cell_type": "code",
   "execution_count": 3,
   "id": "557d583c",
   "metadata": {},
   "outputs": [],
   "source": [
    "trip_files = \"/Users/singyeongdeog/Documents/github_code/data-engineering/01-spark/data/yellow/*\"\n",
    "zone_file = \"/Users/singyeongdeog/Documents/github_code/TIL/til-by-topic/big-data/1-spark/data/taxi+_zone_lookup.csv\""
   ]
  },
  {
   "cell_type": "code",
   "execution_count": 6,
   "id": "c6018124",
   "metadata": {},
   "outputs": [
    {
     "name": "stderr",
     "output_type": "stream",
     "text": [
      "                                                                                \r"
     ]
    }
   ],
   "source": [
    "trips_df = spark.read.csv(f\"file:///{trip_files}\", inferSchema = True, header = True)\n",
    "zone_df = spark.read.csv(f\"file:///{zone_file}\", inferSchema = True, header = True)"
   ]
  },
  {
   "cell_type": "code",
   "execution_count": 7,
   "id": "7d64fb5c",
   "metadata": {},
   "outputs": [
    {
     "name": "stdout",
     "output_type": "stream",
     "text": [
      "root\n",
      " |-- VendorID: integer (nullable = true)\n",
      " |-- tpep_pickup_datetime: timestamp (nullable = true)\n",
      " |-- tpep_dropoff_datetime: timestamp (nullable = true)\n",
      " |-- passenger_count: double (nullable = true)\n",
      " |-- trip_distance: double (nullable = true)\n",
      " |-- RatecodeID: double (nullable = true)\n",
      " |-- store_and_fwd_flag: string (nullable = true)\n",
      " |-- PULocationID: integer (nullable = true)\n",
      " |-- DOLocationID: integer (nullable = true)\n",
      " |-- payment_type: integer (nullable = true)\n",
      " |-- fare_amount: double (nullable = true)\n",
      " |-- extra: double (nullable = true)\n",
      " |-- mta_tax: double (nullable = true)\n",
      " |-- tip_amount: double (nullable = true)\n",
      " |-- tolls_amount: double (nullable = true)\n",
      " |-- improvement_surcharge: double (nullable = true)\n",
      " |-- total_amount: double (nullable = true)\n",
      " |-- congestion_surcharge: double (nullable = true)\n",
      " |-- airport_fee: double (nullable = true)\n",
      "\n",
      "root\n",
      " |-- LocationID: string (nullable = true)\n",
      " |-- Borough: string (nullable = true)\n",
      " |-- Zone: string (nullable = true)\n",
      " |-- service_zone: string (nullable = true)\n",
      "\n"
     ]
    }
   ],
   "source": [
    "trips_df.printSchema()\n",
    "zone_df.printSchema()"
   ]
  },
  {
   "cell_type": "code",
   "execution_count": 8,
   "id": "540e66c2",
   "metadata": {},
   "outputs": [],
   "source": [
    "trips_df.createOrReplaceTempView(\"trips\")\n",
    "zone_df.createOrReplaceTempView(\"zone\")"
   ]
  },
  {
   "cell_type": "code",
   "execution_count": 33,
   "id": "57c5532d",
   "metadata": {},
   "outputs": [],
   "source": [
    "query = \"\"\"\n",
    "SELECT \n",
    "    t.VendorID as vendor_id,\n",
    "    TO_DATE(t.tpep_pickup_datetime) as pickup_date,\n",
    "    TO_DATE(t.tpep_dropoff_datetime) as dropoff_date,\n",
    "    HOUR(t.tpep_pickup_datetime) as pickup_time,\n",
    "    HOUR(t.tpep_dropoff_datetime) as dropoff_time,\n",
    "    passenger_count,\n",
    "    t.trip_distance,\n",
    "    t.fare_amount,\n",
    "    t.tip_amount,\n",
    "    t.tolls_amount,\n",
    "    t.total_amount,\n",
    "    t.payment_type,\n",
    "    pz.Zone as pickup_zone,\n",
    "    dz.Zone as dropoff_zone\n",
    "FROM\n",
    "    trips t\n",
    "    LEFT JOIN\n",
    "        zone pz \n",
    "    ON\n",
    "        t.PULocationID = pz.LocationID\n",
    "    LEFT JOIN\n",
    "        zone dz\n",
    "    ON\n",
    "        t.DOLocationID = dz.LocationID\n",
    "\"\"\"\n",
    "comb_df = spark.sql(query)\n",
    "comb_df.createOrReplaceTempView('comb')"
   ]
  },
  {
   "cell_type": "code",
   "execution_count": 25,
   "id": "bbc19a31",
   "metadata": {},
   "outputs": [
    {
     "name": "stdout",
     "output_type": "stream",
     "text": [
      "22/07/31 00:48:46 WARN CSVHeaderChecker: CSV header does not conform to the schema.\n",
      " Header: id, category\n",
      " Schema: LocationID, Zone\n",
      "Expected: LocationID but found: id\n",
      "CSV file: file:///Users/singyeongdeog/Documents/github_code/TIL/til-by-topic/big-data/1-spark/data/restaurant_reviews.csv\n",
      "+---------+-----------+------------+-----------+------------+-------------+-----------+----------+------------+------------+------------+--------------------+--------------------+\n",
      "|vendor_id|pickup_date|dropoff_date|pickup_time|dropoff_time|trip_distance|fare_amount|tip_amount|tolls_amount|total_amount|payment_type|         pickup_zone|        dropoff_zone|\n",
      "+---------+-----------+------------+-----------+------------+-------------+-----------+----------+------------+------------+------------+--------------------+--------------------+\n",
      "|        1| 2021-01-01|  2021-01-01|          0|           0|          2.1|        8.0|       0.0|         0.0|        11.8|           2| Lincoln Square East|        Central Park|\n",
      "|        1| 2021-01-01|  2021-01-01|          0|           0|          0.2|        3.0|       0.0|         0.0|         4.3|           2|Upper West Side N...|    Manhattan Valley|\n",
      "|        1| 2021-01-01|  2021-01-01|          0|           1|         14.7|       42.0|      8.65|         0.0|       51.95|           1|         JFK Airport|             Midwood|\n",
      "|        1| 2021-01-01|  2021-01-01|          0|           0|         10.6|       29.0|      6.05|         0.0|       36.35|           1|   LaGuardia Airport|         JFK Airport|\n",
      "|        2| 2021-01-01|  2021-01-01|          0|           0|         4.94|       16.5|      4.06|         0.0|       24.36|           1|        East Chelsea|    Brooklyn Heights|\n",
      "|        1| 2021-01-01|  2021-01-01|          0|           0|          1.6|        8.0|      2.35|         0.0|       14.15|           1|Stuy Town/Peter C...|        East Chelsea|\n",
      "|        1| 2021-01-01|  2021-01-01|          0|           0|          4.1|       16.0|       0.0|         0.0|        17.3|           2|        Forest Hills|             Maspeth|\n",
      "|        1| 2021-01-01|  2021-01-01|          0|           0|          5.7|       18.0|       0.0|         0.0|        21.8|           2|            Flatiron|     Carroll Gardens|\n",
      "|        1| 2021-01-01|  2021-01-01|          0|           1|          9.1|       27.5|       0.0|         0.0|        28.8|           4|         Fort Greene|     Jackson Heights|\n",
      "|        1| 2021-01-01|  2021-01-01|          0|           0|          2.7|       12.0|      3.15|         0.0|       18.95|           1|      Yorkville West| Lincoln Square East|\n",
      "|        2| 2021-01-01|  2021-01-01|          0|           0|         6.11|       20.5|       0.0|         0.0|        24.3|           1|       Midtown South|Williamsburg (Nor...|\n",
      "|        2| 2021-01-01|  2021-01-01|          0|           0|         1.21|        7.0|      2.49|         0.0|       10.79|           1|Williamsburg (Nor...|   East Williamsburg|\n",
      "|        1| 2021-01-01|  2021-01-01|          0|           0|          7.4|       24.5|       0.0|        6.12|       33.92|           2|   LaGuardia Airport| Morningside Heights|\n",
      "|        2| 2021-01-01|  2021-01-01|          0|           0|          1.7|        8.0|      2.36|         0.0|       14.16|           1| Lincoln Square East|        Clinton West|\n",
      "|        2| 2021-01-01|  2021-01-01|          0|           0|         0.81|        4.5|       0.0|         0.0|         8.3|           2|        Clinton West| Lincoln Square East|\n",
      "|        2| 2021-01-01|  2021-01-01|          0|           0|         1.01|        5.5|       1.0|         0.0|        10.3|           1|Upper East Side N...|Upper East Side S...|\n",
      "|        2| 2021-01-01|  2021-01-01|          0|           0|         0.73|        5.5|      2.79|         0.0|       12.09|           1| Lincoln Square East|Upper West Side S...|\n",
      "|        2| 2021-01-01|  2021-01-01|          0|           0|         1.17|        6.5|      2.06|         0.0|       12.36|           1|Upper West Side N...| Morningside Heights|\n",
      "|        2| 2021-01-01|  2021-01-01|          0|           0|         0.78|        4.5|      1.66|         0.0|        9.96|           1|Upper West Side S...|Upper West Side N...|\n",
      "|        2| 2021-01-01|  2021-01-01|          0|           0|         1.66|        8.5|       0.0|         0.0|        12.3|           2|    Manhattan Valley| Lincoln Square East|\n",
      "+---------+-----------+------------+-----------+------------+-------------+-----------+----------+------------+------------+------------+--------------------+--------------------+\n",
      "only showing top 20 rows\n",
      "\n"
     ]
    }
   ],
   "source": [
    "comb_df.show()"
   ]
  },
  {
   "cell_type": "code",
   "execution_count": 26,
   "id": "c7e08579",
   "metadata": {},
   "outputs": [
    {
     "name": "stdout",
     "output_type": "stream",
     "text": [
      "root\n",
      " |-- vendor_id: integer (nullable = true)\n",
      " |-- pickup_date: date (nullable = true)\n",
      " |-- dropoff_date: date (nullable = true)\n",
      " |-- pickup_time: integer (nullable = true)\n",
      " |-- dropoff_time: integer (nullable = true)\n",
      " |-- trip_distance: double (nullable = true)\n",
      " |-- fare_amount: double (nullable = true)\n",
      " |-- tip_amount: double (nullable = true)\n",
      " |-- tolls_amount: double (nullable = true)\n",
      " |-- total_amount: double (nullable = true)\n",
      " |-- payment_type: integer (nullable = true)\n",
      " |-- pickup_zone: string (nullable = true)\n",
      " |-- dropoff_zone: string (nullable = true)\n",
      "\n"
     ]
    }
   ],
   "source": [
    "comb_df.printSchema()"
   ]
  },
  {
   "cell_type": "code",
   "execution_count": 27,
   "id": "9c94868c",
   "metadata": {},
   "outputs": [
    {
     "name": "stdout",
     "output_type": "stream",
     "text": [
      "22/07/31 00:48:49 WARN CSVHeaderChecker: CSV header does not conform to the schema.\n",
      " Header: id\n",
      " Schema: LocationID\n",
      "Expected: LocationID but found: id\n",
      "CSV file: file:///Users/singyeongdeog/Documents/github_code/TIL/til-by-topic/big-data/1-spark/data/restaurant_reviews.csv\n",
      "+-----------+-----------+\n",
      "|pickup_date|pickup_time|\n",
      "+-----------+-----------+\n",
      "| 2020-12-31|         23|\n",
      "| 2020-12-31|         21|\n",
      "| 2020-12-31|         23|\n",
      "| 2020-12-31|         18|\n",
      "| 2021-01-01|          1|\n",
      "| 2021-01-01|          1|\n",
      "| 2021-01-01|          1|\n",
      "| 2020-12-31|         23|\n",
      "| 2020-12-31|         13|\n",
      "| 2020-12-31|         23|\n",
      "| 2021-01-01|          1|\n",
      "| 2021-01-01|          1|\n",
      "| 2021-01-01|          1|\n",
      "| 2021-01-01|          1|\n",
      "| 2021-01-01|          1|\n",
      "| 2021-01-01|          1|\n",
      "| 2021-01-01|          1|\n",
      "| 2021-01-01|          1|\n",
      "| 2021-01-01|          1|\n",
      "| 2021-01-01|          1|\n",
      "+-----------+-----------+\n",
      "only showing top 20 rows\n",
      "\n"
     ]
    }
   ],
   "source": [
    "spark.sql(\"SELECT pickup_date, pickup_time from comb WHERE pickup_time > 0\").show()"
   ]
  },
  {
   "cell_type": "code",
   "execution_count": 30,
   "id": "c855088a",
   "metadata": {},
   "outputs": [
    {
     "name": "stdout",
     "output_type": "stream",
     "text": [
      "22/07/31 00:49:50 WARN CSVHeaderChecker: CSV header does not conform to the schema.\n",
      " Header: id\n",
      " Schema: LocationID\n",
      "Expected: LocationID but found: id\n",
      "CSV file: file:///Users/singyeongdeog/Documents/github_code/TIL/til-by-topic/big-data/1-spark/data/restaurant_reviews.csv\n"
     ]
    },
    {
     "name": "stderr",
     "output_type": "stream",
     "text": [
      "[Stage 28:>                                                         (0 + 4) / 4]\r"
     ]
    },
    {
     "name": "stdout",
     "output_type": "stream",
     "text": [
      "+-----------+-----------+\n",
      "|pickup_date|pickup_time|\n",
      "+-----------+-----------+\n",
      "| 2009-01-01|          0|\n",
      "| 2008-12-31|         23|\n",
      "| 2009-01-01|          0|\n",
      "| 2009-01-01|          0|\n",
      "| 2009-01-01|          0|\n",
      "| 2008-12-31|         23|\n",
      "| 2008-12-31|         23|\n",
      "| 2009-01-01|          0|\n",
      "| 2009-01-01|          0|\n",
      "| 2009-01-01|          0|\n",
      "| 2009-01-01|          0|\n",
      "| 2009-01-01|          1|\n",
      "| 2009-01-01|         17|\n",
      "| 2009-01-01|         17|\n",
      "| 2009-01-01|         18|\n",
      "| 2009-01-01|          1|\n",
      "| 2009-01-01|          1|\n",
      "| 2009-01-01|          2|\n",
      "| 2009-01-01|          2|\n",
      "| 2009-01-01|          0|\n",
      "+-----------+-----------+\n",
      "only showing top 20 rows\n",
      "\n"
     ]
    },
    {
     "name": "stderr",
     "output_type": "stream",
     "text": [
      "\r",
      "[Stage 28:===========================================>              (3 + 1) / 4]\r",
      "\r",
      "                                                                                \r"
     ]
    }
   ],
   "source": [
    "spark.sql(\"SELECT pickup_date, pickup_time from comb WHERE pickup_date < '2020-12-31'\").show()"
   ]
  },
  {
   "cell_type": "code",
   "execution_count": 31,
   "id": "742b7974",
   "metadata": {},
   "outputs": [
    {
     "name": "stdout",
     "output_type": "stream",
     "text": [
      "22/07/31 00:51:13 WARN CSVHeaderChecker: CSV header does not conform to the schema.\n",
      " Header: id\n",
      " Schema: LocationID\n",
      "Expected: LocationID but found: id\n",
      "CSV file: file:///Users/singyeongdeog/Documents/github_code/TIL/til-by-topic/big-data/1-spark/data/restaurant_reviews.csv\n"
     ]
    },
    {
     "name": "stderr",
     "output_type": "stream",
     "text": [
      "[Stage 30:===========================================>            (10 + 3) / 13]\r"
     ]
    },
    {
     "name": "stdout",
     "output_type": "stream",
     "text": [
      "+-------+------------------+\n",
      "|summary|      total_amount|\n",
      "+-------+------------------+\n",
      "|  count|          15182580|\n",
      "|   mean| 18.88254283413038|\n",
      "| stddev|144.91087057197095|\n",
      "|    min|            -647.8|\n",
      "|    max|          398469.2|\n",
      "+-------+------------------+\n",
      "\n"
     ]
    },
    {
     "name": "stderr",
     "output_type": "stream",
     "text": [
      "\r",
      "                                                                                \r"
     ]
    }
   ],
   "source": [
    "comb_df.select(\"total_amount\").describe().show()"
   ]
  },
  {
   "cell_type": "code",
   "execution_count": 32,
   "id": "975cb7fc",
   "metadata": {},
   "outputs": [
    {
     "name": "stdout",
     "output_type": "stream",
     "text": [
      "22/07/31 00:51:39 WARN CSVHeaderChecker: CSV header does not conform to the schema.\n",
      " Header: id\n",
      " Schema: LocationID\n",
      "Expected: LocationID but found: id\n",
      "CSV file: file:///Users/singyeongdeog/Documents/github_code/TIL/til-by-topic/big-data/1-spark/data/restaurant_reviews.csv\n"
     ]
    },
    {
     "name": "stderr",
     "output_type": "stream",
     "text": [
      "[Stage 34:===================================================>    (12 + 1) / 13]\r"
     ]
    },
    {
     "name": "stdout",
     "output_type": "stream",
     "text": [
      "+-------+-----------------+\n",
      "|summary|    trip_distance|\n",
      "+-------+-----------------+\n",
      "|  count|         15182580|\n",
      "|   mean|6.702411167271958|\n",
      "| stddev|674.5041546489061|\n",
      "|    min|              0.0|\n",
      "|    max|        332541.19|\n",
      "+-------+-----------------+\n",
      "\n"
     ]
    },
    {
     "name": "stderr",
     "output_type": "stream",
     "text": [
      "\r",
      "                                                                                \r"
     ]
    }
   ],
   "source": [
    "comb_df.select(\"trip_distance\").describe().show()"
   ]
  },
  {
   "cell_type": "code",
   "execution_count": 34,
   "id": "62706455",
   "metadata": {},
   "outputs": [
    {
     "name": "stdout",
     "output_type": "stream",
     "text": [
      "22/07/31 00:52:24 WARN CSVHeaderChecker: CSV header does not conform to the schema.\n",
      " Header: id\n",
      " Schema: LocationID\n",
      "Expected: LocationID but found: id\n",
      "CSV file: file:///Users/singyeongdeog/Documents/github_code/TIL/til-by-topic/big-data/1-spark/data/restaurant_reviews.csv\n"
     ]
    },
    {
     "name": "stderr",
     "output_type": "stream",
     "text": [
      "[Stage 38:===================================================>    (12 + 1) / 13]\r"
     ]
    },
    {
     "name": "stdout",
     "output_type": "stream",
     "text": [
      "+-------+------------------+\n",
      "|summary|   passenger_count|\n",
      "+-------+------------------+\n",
      "|  count|          14324093|\n",
      "|   mean| 1.425325778044027|\n",
      "| stddev|1.0442640081415573|\n",
      "|    min|               0.0|\n",
      "|    max|               9.0|\n",
      "+-------+------------------+\n",
      "\n"
     ]
    },
    {
     "name": "stderr",
     "output_type": "stream",
     "text": [
      "\r",
      "                                                                                \r"
     ]
    }
   ],
   "source": [
    "comb_df.select(\"passenger_count\").describe().show()"
   ]
  },
  {
   "cell_type": "code",
   "execution_count": 36,
   "id": "ce0abeb7",
   "metadata": {},
   "outputs": [
    {
     "name": "stdout",
     "output_type": "stream",
     "text": [
      "22/07/31 00:54:41 WARN CSVHeaderChecker: CSV header does not conform to the schema.\n",
      " Header: id\n",
      " Schema: LocationID\n",
      "Expected: LocationID but found: id\n",
      "CSV file: file:///Users/singyeongdeog/Documents/github_code/TIL/til-by-topic/big-data/1-spark/data/restaurant_reviews.csv\n"
     ]
    },
    {
     "name": "stderr",
     "output_type": "stream",
     "text": [
      "[Stage 46:===============================================>        (11 + 2) / 13]\r"
     ]
    },
    {
     "name": "stdout",
     "output_type": "stream",
     "text": [
      "+-------------------+-------+\n",
      "|              month|  trips|\n",
      "+-------------------+-------+\n",
      "|2029-05-01 00:00:00|      1|\n",
      "|2021-12-01 00:00:00|      5|\n",
      "|2021-11-01 00:00:00|      6|\n",
      "|2021-10-01 00:00:00|      3|\n",
      "|2021-09-01 00:00:00|      3|\n",
      "|2021-08-01 00:00:00|     36|\n",
      "|2021-07-01 00:00:00|2858424|\n",
      "|2021-06-01 00:00:00|2869072|\n",
      "|2021-05-01 00:00:00|2537413|\n",
      "|2021-04-01 00:00:00|2196075|\n",
      "|2021-03-01 00:00:00|1947406|\n",
      "|2021-02-01 00:00:00|1387966|\n",
      "|2021-01-01 00:00:00|1386012|\n",
      "|2020-12-01 00:00:00|     16|\n",
      "|2009-01-01 00:00:00|    113|\n",
      "|2008-12-01 00:00:00|     26|\n",
      "|2004-04-01 00:00:00|      1|\n",
      "|2003-01-01 00:00:00|      1|\n",
      "|2002-12-01 00:00:00|      1|\n",
      "+-------------------+-------+\n",
      "\n"
     ]
    },
    {
     "name": "stderr",
     "output_type": "stream",
     "text": [
      "\r",
      "                                                                                \r"
     ]
    }
   ],
   "source": [
    "query = \"\"\"\n",
    "SELECT \n",
    "    DATE_TRUNC('MM', c.pickup_date) as month,\n",
    "    COUNT(*) AS trips\n",
    "FROM\n",
    "    comb c\n",
    "GROUP BY\n",
    "    month\n",
    "ORDER BY\n",
    "    month desc\n",
    "\"\"\"\n",
    "spark.sql(query).show()"
   ]
  },
  {
   "cell_type": "code",
   "execution_count": 37,
   "id": "2a4a415a",
   "metadata": {},
   "outputs": [],
   "source": [
    "# Data Cleaning\n",
    "query = \"\"\"\n",
    "SELECT \n",
    "    *\n",
    "FROM\n",
    "    comb c\n",
    "WHERE\n",
    "    c.total_amount < 5000\n",
    "    AND c.total_amount > 0 \n",
    "    AND c.trip_distance < 100\n",
    "    AND c.passenger_count < 4\n",
    "    AND c.pickup_date >= '2021-01-01'\n",
    "    AND c.pickup_date < '2021-08-01'\n",
    "\"\"\"\n",
    "\n",
    "cleaned_df = spark.sql(query)\n",
    "cleaned_df.createOrReplaceTempView(\"cleaned\")"
   ]
  },
  {
   "cell_type": "code",
   "execution_count": 38,
   "id": "0eb5ea60",
   "metadata": {},
   "outputs": [
    {
     "name": "stdout",
     "output_type": "stream",
     "text": [
      "22/07/31 00:57:04 WARN CSVHeaderChecker: CSV header does not conform to the schema.\n",
      " Header: id, category\n",
      " Schema: LocationID, Zone\n",
      "Expected: LocationID but found: id\n",
      "CSV file: file:///Users/singyeongdeog/Documents/github_code/TIL/til-by-topic/big-data/1-spark/data/restaurant_reviews.csv\n"
     ]
    },
    {
     "name": "stderr",
     "output_type": "stream",
     "text": [
      "[Stage 50:===================================================>    (12 + 1) / 13]\r"
     ]
    },
    {
     "name": "stdout",
     "output_type": "stream",
     "text": [
      "+-------+------------------+------------------+------------------+------------------+------------------+------------------+------------------+-------------------+------------------+-------------------+--------------------+--------------------+\n",
      "|summary|         vendor_id|       pickup_time|      dropoff_time|   passenger_count|     trip_distance|       fare_amount|        tip_amount|       tolls_amount|      total_amount|       payment_type|         pickup_zone|        dropoff_zone|\n",
      "+-------+------------------+------------------+------------------+------------------+------------------+------------------+------------------+-------------------+------------------+-------------------+--------------------+--------------------+\n",
      "|  count|          13444300|          13444300|          13444300|          13444300|          13444300|          13444300|          13444300|           13444300|          13444300|           13444300|            13444300|            13444300|\n",
      "|   mean|1.6708428107078837|14.195943708486125|14.281257335822616|1.2091244616677699|2.8614595374991385|12.255466073353666|2.1980181973035413|0.28450155009907907|18.184805650896706|  1.248188525992428|                null|                null|\n",
      "| stddev|0.4699071721666941|5.1338924326129245| 5.205718328917869|0.5417354048884154|3.6610707538564315|11.194367602021506| 2.619287992071363| 1.6179157501769432|13.554112269189256|0.45405094979940774|                null|                null|\n",
      "|    min|                 1|                 0|                 0|               0.0|               0.0|              -0.8|               0.0|                0.0|              0.01|                  1|Allerton/Pelham G...|Allerton/Pelham G...|\n",
      "|    max|                 2|                23|                23|               3.0|             99.96|            4969.0|             700.0|             956.55|            4973.3|                  5|          패스트푸드|          패스트푸드|\n",
      "+-------+------------------+------------------+------------------+------------------+------------------+------------------+------------------+-------------------+------------------+-------------------+--------------------+--------------------+\n",
      "\n"
     ]
    },
    {
     "name": "stderr",
     "output_type": "stream",
     "text": [
      "\r",
      "                                                                                \r"
     ]
    }
   ],
   "source": [
    "cleaned_df.describe().show()"
   ]
  },
  {
   "cell_type": "code",
   "execution_count": 39,
   "id": "271420ab",
   "metadata": {},
   "outputs": [],
   "source": [
    "import numpy as np\n",
    "import pandas as pd\n",
    "import seaborn as sns\n",
    "import matplotlib.pyplot as plt\n",
    "import matplotlib.dates as mdates"
   ]
  },
  {
   "cell_type": "code",
   "execution_count": 40,
   "id": "868c5f1b",
   "metadata": {},
   "outputs": [
    {
     "name": "stdout",
     "output_type": "stream",
     "text": [
      "22/07/31 00:59:50 WARN CSVHeaderChecker: CSV header does not conform to the schema.\n",
      " Header: id\n",
      " Schema: LocationID\n",
      "Expected: LocationID but found: id\n",
      "CSV file: file:///Users/singyeongdeog/Documents/github_code/TIL/til-by-topic/big-data/1-spark/data/restaurant_reviews.csv\n"
     ]
    },
    {
     "name": "stderr",
     "output_type": "stream",
     "text": [
      "                                                                                \r"
     ]
    }
   ],
   "source": [
    "query = \"\"\"\n",
    "SELECT \n",
    "    c.pickup_date,\n",
    "    COUNT(*) AS trips\n",
    "FROM\n",
    "    cleaned c\n",
    "GROUP BY\n",
    "    c.pickup_date\n",
    "\"\"\"\n",
    "pd_df = spark.sql(query).toPandas()"
   ]
  },
  {
   "cell_type": "code",
   "execution_count": 41,
   "id": "02cad13f",
   "metadata": {},
   "outputs": [
    {
     "data": {
      "text/plain": [
       "<AxesSubplot:xlabel='pickup_date', ylabel='trips'>"
      ]
     },
     "execution_count": 41,
     "metadata": {},
     "output_type": "execute_result"
    },
    {
     "data": {
      "image/png": "[encoded data removed]",
      "text/plain": [
       "<Figure size 1152x432 with 1 Axes>"
      ]
     },
     "metadata": {
      "needs_background": "light"
     },
     "output_type": "display_data"
    }
   ],
   "source": [
    "fig, ax = plt.subplots(figsize=(16, 6))\n",
    "sns.lineplot(x=\"pickup_date\", y=\"trips\", data=pd_df)"
   ]
  },
  {
   "cell_type": "code",
   "execution_count": 42,
   "id": "017036e1",
   "metadata": {},
   "outputs": [
    {
     "name": "stdout",
     "output_type": "stream",
     "text": [
      "22/07/31 01:02:01 WARN CSVHeaderChecker: CSV header does not conform to the schema.\n",
      " Header: id\n",
      " Schema: LocationID\n",
      "Expected: LocationID but found: id\n",
      "CSV file: file:///Users/singyeongdeog/Documents/github_code/TIL/til-by-topic/big-data/1-spark/data/restaurant_reviews.csv\n"
     ]
    },
    {
     "name": "stderr",
     "output_type": "stream",
     "text": [
      "                                                                                \r"
     ]
    }
   ],
   "source": [
    "query = \"\"\"\n",
    "SELECT \n",
    "    c.pickup_date,\n",
    "    DATE_FORMAT(c.pickup_date, 'EEEE') AS day_of_week,\n",
    "    COUNT(*) AS trips\n",
    "FROM\n",
    "    cleaned c\n",
    "GROUP BY\n",
    "    c.pickup_date,\n",
    "    day_of_week\n",
    "\"\"\"\n",
    "pd_df2 = spark.sql(query).toPandas()"
   ]
  },
  {
   "cell_type": "code",
   "execution_count": 43,
   "id": "e486968b",
   "metadata": {},
   "outputs": [],
   "source": [
    "data = pd_df2.groupby(\"day_of_week\").trips.median().to_frame().reset_index()\n",
    "data[\"sort_dow\"] = data[\"day_of_week\"].replace({ # 원하는 순서로 정렬하기 위해 preprocessing\n",
    "    \"Sunday\": 0,\n",
    "    \"Monday\": 1,\n",
    "    \"Tuesday\": 2,\n",
    "    \"Wednesday\": 3,\n",
    "    \"Thursday\": 4,\n",
    "    \"Friday\": 5,\n",
    "    \"Saturday\": 6,\n",
    "})"
   ]
  },
  {
   "cell_type": "code",
   "execution_count": 44,
   "id": "dd3c201a",
   "metadata": {},
   "outputs": [],
   "source": [
    "data.sort_values(by=\"sort_dow\", inplace=True)"
   ]
  },
  {
   "cell_type": "code",
   "execution_count": 45,
   "id": "ac87c2e8",
   "metadata": {},
   "outputs": [
    {
     "data": {
      "text/plain": [
       "<AxesSubplot:xlabel='day_of_week', ylabel='trips'>"
      ]
     },
     "execution_count": 45,
     "metadata": {},
     "output_type": "execute_result"
    },
    {
     "data": {
      "image/png": "[encoded data removed]",
      "text/plain": [
       "<Figure size 864x360 with 1 Axes>"
      ]
     },
     "metadata": {
      "needs_background": "light"
     },
     "output_type": "display_data"
    }
   ],
   "source": [
    "fig, ax = plt.subplots(figsize=(12, 5))\n",
    "sns.barplot(\n",
    "    x=\"day_of_week\",\n",
    "    y=\"trips\",\n",
    "    data=data\n",
    ")"
   ]
  },
  {
   "cell_type": "code",
   "execution_count": 46,
   "id": "66a0ddf8",
   "metadata": {},
   "outputs": [
    {
     "data": {
      "text/plain": [
       "<function __main__.get_weekday(data)>"
      ]
     },
     "execution_count": 46,
     "metadata": {},
     "output_type": "execute_result"
    }
   ],
   "source": [
    "def get_weekday(data):\n",
    "    import calendar\n",
    "    return calendar.day_name[date.weekday()]\n",
    "\n",
    "spark.udf.register(\"get_weekday\", get_weekday)"
   ]
  },
  {
   "cell_type": "code",
   "execution_count": 48,
   "id": "191113cb",
   "metadata": {},
   "outputs": [],
   "source": [
    "query = \"\"\"\n",
    "SELECT \n",
    "    c.pickup_date,\n",
    "    get_weekday(c.pickup_date) AS day_of_week,\n",
    "    COUNT(*) AS trips\n",
    "FROM\n",
    "    cleaned c\n",
    "GROUP BY\n",
    "    c.pickup_date,\n",
    "    day_of_week\n",
    "\"\"\"\n"
   ]
  },
  {
   "cell_type": "code",
   "execution_count": 49,
   "id": "b97742ee",
   "metadata": {},
   "outputs": [
    {
     "data": {
      "text/plain": [
       "<function __main__.parse_payment_type(payment_type)>"
      ]
     },
     "execution_count": 49,
     "metadata": {},
     "output_type": "execute_result"
    }
   ],
   "source": [
    "# Payment Type에 따른 사용자 패턴 분석 "
   ]
  },
  {
   "cell_type": "code",
   "execution_count": 50,
   "id": "5d5004b8",
   "metadata": {},
   "outputs": [
    {
     "name": "stdout",
     "output_type": "stream",
     "text": [
      "22/07/31 01:06:19 WARN SimpleFunctionRegistry: The function parse_payment_type replaced a previously registered function.\n"
     ]
    },
    {
     "data": {
      "text/plain": [
       "<function __main__.parse_payment_type(payment_type)>"
      ]
     },
     "execution_count": 50,
     "metadata": {},
     "output_type": "execute_result"
    }
   ],
   "source": [
    "payment_type_to_string = {\n",
    "    1: \"Credit Card\",\n",
    "    2: \"Cash\",\n",
    "    3: \"No Charge\",\n",
    "    4: \"Dispute\",\n",
    "    5: \"Unknown\",\n",
    "    6: \"Voided Trip\",\n",
    "}\n",
    "def parse_payment_type(payment_type):\n",
    "    return payment_type_to_string[payment_type]\n",
    "\n",
    "spark.udf.register(\"parse_payment_type\", parse_payment_type)"
   ]
  },
  {
   "cell_type": "code",
   "execution_count": 51,
   "id": "284e58ed",
   "metadata": {},
   "outputs": [
    {
     "name": "stdout",
     "output_type": "stream",
     "text": [
      "22/07/31 01:06:29 WARN CSVHeaderChecker: CSV header does not conform to the schema.\n",
      " Header: id\n",
      " Schema: LocationID\n",
      "Expected: LocationID but found: id\n",
      "CSV file: file:///Users/singyeongdeog/Documents/github_code/TIL/til-by-topic/big-data/1-spark/data/restaurant_reviews.csv\n"
     ]
    },
    {
     "name": "stderr",
     "output_type": "stream",
     "text": [
      "[Stage 64:>                                                         (0 + 1) / 1]\r"
     ]
    },
    {
     "name": "stdout",
     "output_type": "stream",
     "text": [
      "+--------------------------------+--------+------------------+------------------+\n",
      "|parse_payment_type(payment_type)|   trips|  mean_fare_amount| stdev_fare_amount|\n",
      "+--------------------------------+--------+------------------+------------------+\n",
      "|                     Credit Card|10215169|12.319930962473373|11.028816342090348|\n",
      "|                       No Charge|   59651|11.993199443429283|15.208418535529024|\n",
      "|                         Dispute|   23968| 12.74692214619492|14.360333740545434|\n",
      "|                            Cash| 3145511|12.047340896280424| 11.60067907728248|\n",
      "|                         Unknown|       1|              17.8|              null|\n",
      "+--------------------------------+--------+------------------+------------------+\n",
      "\n"
     ]
    },
    {
     "name": "stderr",
     "output_type": "stream",
     "text": [
      "\r",
      "                                                                                \r"
     ]
    }
   ],
   "source": [
    "query = \"\"\"\n",
    "SELECT \n",
    "    parse_payment_type(payment_type),\n",
    "    count(*) AS trips,\n",
    "    MEAN(fare_amount) AS mean_fare_amount,\n",
    "    STD(fare_amount) AS stdev_fare_amount\n",
    "FROM\n",
    "    cleaned\n",
    "GROUP BY\n",
    "    payment_type\n",
    "\"\"\"\n",
    "\n",
    "spark.sql(query).show()"
   ]
  },
  {
   "cell_type": "code",
   "execution_count": null,
   "id": "641ca326",
   "metadata": {},
   "outputs": [],
   "source": []
  }
 ],
 "metadata": {
  "kernelspec": {
   "display_name": "Python 3 (ipykernel)",
   "language": "python",
   "name": "python3"
  },
  "language_info": {
   "codemirror_mode": {
    "name": "ipython",
    "version": 3
   },
   "file_extension": ".py",
   "mimetype": "text/x-python",
   "name": "python",
   "nbconvert_exporter": "python",
   "pygments_lexer": "ipython3",
   "version": "3.9.12"
  }
 },
 "nbformat": 4,
 "nbformat_minor": 5
}
